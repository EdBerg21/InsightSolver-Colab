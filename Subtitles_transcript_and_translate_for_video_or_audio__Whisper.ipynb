{
  "nbformat": 4,
  "nbformat_minor": 0,
  "metadata": {
    "colab": {
      "provenance": [],
      "authorship_tag": "ABX9TyNd9VjvXw5yZFfVweShs5sP",
      "include_colab_link": true
    },
    "kernelspec": {
      "name": "python3",
      "display_name": "Python 3"
    },
    "language_info": {
      "name": "python"
    }
  },
  "cells": [
    {
      "cell_type": "markdown",
      "metadata": {
        "id": "view-in-github",
        "colab_type": "text"
      },
      "source": [
        "<a href=\"https://colab.research.google.com/github/R3gm/Colab-resources/blob/main/Subtitles_transcript_and_translate_for_video_or_audio__Whisper.ipynb\" target=\"_parent\"><img src=\"https://colab.research.google.com/assets/colab-badge.svg\" alt=\"Open In Colab\"/></a>"
      ]
    },
    {
      "cell_type": "code",
      "execution_count": 47,
      "metadata": {
        "colab": {
          "base_uri": "https://localhost:8080/"
        },
        "id": "3CU3FMktYgY5",
        "outputId": "8c012f53-b625-411e-880c-c5e8f7b4154e"
      },
      "outputs": [
        {
          "output_type": "stream",
          "name": "stdout",
          "text": [
            "  Installing build dependencies ... \u001b[?25l\u001b[?25hdone\n",
            "  Getting requirements to build wheel ... \u001b[?25l\u001b[?25hdone\n",
            "  Preparing metadata (pyproject.toml) ... \u001b[?25l\u001b[?25hdone\n"
          ]
        }
      ],
      "source": [
        "! pip install -qq git+https://github.com/openai/whisper.git gradio yt-dlp deep-translator"
      ]
    },
    {
      "cell_type": "code",
      "source": [
        "import gradio as gr \n",
        "import os\n",
        "import sys\n",
        "import subprocess\n",
        "from os.path import exists as path_exists\n",
        "from pathlib import Path\n",
        "from whisper.utils import get_writer\n",
        "from deep_translator import GoogleTranslator\n",
        "\n",
        "def video2mp3(video_file, output_ext=\"mp3\"):\n",
        "    # convert to mp3\n",
        "    filename, ext = os.path.splitext(video_file)\n",
        "    subprocess.call([\"ffmpeg\", \"-y\", \"-i\", video_file, f\"{filename}.{output_ext}\"], \n",
        "                    stdout=subprocess.DEVNULL,\n",
        "                    stderr=subprocess.STDOUT)\n",
        "    return f\"{filename}.{output_ext}\"\n",
        "\n",
        "def translate_to_en(audio):\n",
        "    # en translate\n",
        "    options = dict(beam_size=5, best_of=5)\n",
        "    translate_options = dict(task=\"translate\", **options)\n",
        "    result = model.transcribe(audio_file,**translate_options)\n",
        "    return result\n",
        "\n",
        "def translate_vtt(target, file_subs):\n",
        "  translator = GoogleTranslator(source='auto', target=target)\n",
        "\n",
        "  with open(os.path.join('.', file_subs), \"r+\") as file:\n",
        "      lines = file.readlines()\n",
        "      for i, line in enumerate(lines):\n",
        "          if i % 3 == 0 and line.strip() != 'WEBVTT':\n",
        "              # Translate the line\n",
        "              translated_line = translator.translate(line.strip())\n",
        "              # Replace\n",
        "              lines[i] = translated_line + '\\n'\n",
        "              print(lines[i])\n",
        "      file.seek(0)\n",
        "      file.writelines(lines)"
      ],
      "metadata": {
        "id": "adgZz-8VY4LL"
      },
      "execution_count": 62,
      "outputs": []
    },
    {
      "cell_type": "code",
      "source": [
        "import whisper\n",
        "MODEL_SIZE = 'medium' #@param ['tiny', 'base', 'small', 'medium', 'large']\n",
        "youtube_url = 'www.youtube.com/watch?v=g_9rPvbENUw' #@param {type:\"string\"}\n",
        "SUBTITLE_TYPE = 'vtt' #@param ['srt', 'vtt']\n",
        "TARGET_LANG_CODE = 'es' #@param {type:\"string\"}\n",
        "OutputFile = 'Video.mp4'\n",
        "\n",
        "model = whisper.load_model(MODEL_SIZE)\n",
        "!yt-dlp -f \"mp4\" --force-overwrites --no-warnings --ignore-no-formats-error --restrict-filenames -o $OutputFile {youtube_url}\n",
        "\n",
        "# Audio file\n",
        "audio_file = video2mp3(OutputFile)\n",
        "from IPython.display import Audio\n",
        "Audio(audio_file, rate=44100)\n",
        "\n",
        "# Translate transcription\n",
        "result_en = translate_to_en(audio_file)\n",
        "\n",
        "# Make subtitles\n",
        "output_writer = get_writer(SUBTITLE_TYPE, ) #\"/content\"\n",
        "output_writer(result_en, 'audio_filename', )"
      ],
      "metadata": {
        "id": "2DJsXkcUY6Jj"
      },
      "execution_count": null,
      "outputs": []
    },
    {
      "cell_type": "code",
      "source": [
        "options = {\n",
        "    \"max_line_width\": 12,\n",
        "    \"max_line_count\": 1,\n",
        "    \"highlight_words\": 12\n",
        "}\n",
        "output_writer = get_writer(SUBTITLE_TYPE, '.') #\"/content\"\n",
        "output_writer(result_en, 'subtitles_en', options)\n",
        "subtitles_en = f'subtitles_en.{SUBTITLE_TYPE}'\n"
      ],
      "metadata": {
        "id": "bI4eHtHQkxAR"
      },
      "execution_count": 60,
      "outputs": []
    },
    {
      "cell_type": "code",
      "source": [
        "if TARGET_LANG_CODE != 'en':\n",
        "  try:\n",
        "    translate_vtt(TARGET_LANG_CODE, subtitles_en)\n",
        "  except:\n",
        "    invalid TARGET_LANG_CODE\n",
        "else:\n",
        "  print('No valid target language')\n"
      ],
      "metadata": {
        "colab": {
          "base_uri": "https://localhost:8080/"
        },
        "id": "sx8HwD_9j8Bl",
        "outputId": "3532d4cf-e30e-42b3-f73e-47601f05c9f0"
      },
      "execution_count": 63,
      "outputs": [
        {
          "output_type": "stream",
          "name": "stdout",
          "text": [
            "¿Cuáles son las áreas más contaminadas por sólidos o paquetes que has visto en la escuela?\n",
            "\n",
            "Aquí en la escuela tenemos cinco puntos ecológicos, más que todo lo que se presenta es contaminación en las áreas verdes.\n",
            "\n",
            "Aproximadamente, ¿cuánta basura recolecta?\n",
            "\n",
            "Aquí se hace la recolección de basura los lunes, miércoles y viernes, más o menos en cantidades, por lo menos 300 kilos de basura.\n",
            "\n",
            "¿Cuáles considera que son los residuos plásticos más abundantes?\n",
            "\n",
            "Suelen ser botellas, estas se recogen en cantidades y paquetes de patatas etc.\n",
            "\n",
            "Muchas gracias por tu colaboración.\n",
            "\n"
          ]
        }
      ]
    },
    {
      "cell_type": "code",
      "source": [
        "languages = GoogleTranslator().get_supported_languages(as_dict=True)\n",
        "languages"
      ],
      "metadata": {
        "colab": {
          "base_uri": "https://localhost:8080/"
        },
        "id": "Ch909spznKOA",
        "outputId": "e5bc7ff6-f2cb-4c8b-e21e-be6767f68c01"
      },
      "execution_count": 58,
      "outputs": [
        {
          "output_type": "execute_result",
          "data": {
            "text/plain": [
              "{'afrikaans': 'af',\n",
              " 'albanian': 'sq',\n",
              " 'amharic': 'am',\n",
              " 'arabic': 'ar',\n",
              " 'armenian': 'hy',\n",
              " 'assamese': 'as',\n",
              " 'aymara': 'ay',\n",
              " 'azerbaijani': 'az',\n",
              " 'bambara': 'bm',\n",
              " 'basque': 'eu',\n",
              " 'belarusian': 'be',\n",
              " 'bengali': 'bn',\n",
              " 'bhojpuri': 'bho',\n",
              " 'bosnian': 'bs',\n",
              " 'bulgarian': 'bg',\n",
              " 'catalan': 'ca',\n",
              " 'cebuano': 'ceb',\n",
              " 'chichewa': 'ny',\n",
              " 'chinese (simplified)': 'zh-CN',\n",
              " 'chinese (traditional)': 'zh-TW',\n",
              " 'corsican': 'co',\n",
              " 'croatian': 'hr',\n",
              " 'czech': 'cs',\n",
              " 'danish': 'da',\n",
              " 'dhivehi': 'dv',\n",
              " 'dogri': 'doi',\n",
              " 'dutch': 'nl',\n",
              " 'english': 'en',\n",
              " 'esperanto': 'eo',\n",
              " 'estonian': 'et',\n",
              " 'ewe': 'ee',\n",
              " 'filipino': 'tl',\n",
              " 'finnish': 'fi',\n",
              " 'french': 'fr',\n",
              " 'frisian': 'fy',\n",
              " 'galician': 'gl',\n",
              " 'georgian': 'ka',\n",
              " 'german': 'de',\n",
              " 'greek': 'el',\n",
              " 'guarani': 'gn',\n",
              " 'gujarati': 'gu',\n",
              " 'haitian creole': 'ht',\n",
              " 'hausa': 'ha',\n",
              " 'hawaiian': 'haw',\n",
              " 'hebrew': 'iw',\n",
              " 'hindi': 'hi',\n",
              " 'hmong': 'hmn',\n",
              " 'hungarian': 'hu',\n",
              " 'icelandic': 'is',\n",
              " 'igbo': 'ig',\n",
              " 'ilocano': 'ilo',\n",
              " 'indonesian': 'id',\n",
              " 'irish': 'ga',\n",
              " 'italian': 'it',\n",
              " 'japanese': 'ja',\n",
              " 'javanese': 'jw',\n",
              " 'kannada': 'kn',\n",
              " 'kazakh': 'kk',\n",
              " 'khmer': 'km',\n",
              " 'kinyarwanda': 'rw',\n",
              " 'konkani': 'gom',\n",
              " 'korean': 'ko',\n",
              " 'krio': 'kri',\n",
              " 'kurdish (kurmanji)': 'ku',\n",
              " 'kurdish (sorani)': 'ckb',\n",
              " 'kyrgyz': 'ky',\n",
              " 'lao': 'lo',\n",
              " 'latin': 'la',\n",
              " 'latvian': 'lv',\n",
              " 'lingala': 'ln',\n",
              " 'lithuanian': 'lt',\n",
              " 'luganda': 'lg',\n",
              " 'luxembourgish': 'lb',\n",
              " 'macedonian': 'mk',\n",
              " 'maithili': 'mai',\n",
              " 'malagasy': 'mg',\n",
              " 'malay': 'ms',\n",
              " 'malayalam': 'ml',\n",
              " 'maltese': 'mt',\n",
              " 'maori': 'mi',\n",
              " 'marathi': 'mr',\n",
              " 'meiteilon (manipuri)': 'mni-Mtei',\n",
              " 'mizo': 'lus',\n",
              " 'mongolian': 'mn',\n",
              " 'myanmar': 'my',\n",
              " 'nepali': 'ne',\n",
              " 'norwegian': 'no',\n",
              " 'odia (oriya)': 'or',\n",
              " 'oromo': 'om',\n",
              " 'pashto': 'ps',\n",
              " 'persian': 'fa',\n",
              " 'polish': 'pl',\n",
              " 'portuguese': 'pt',\n",
              " 'punjabi': 'pa',\n",
              " 'quechua': 'qu',\n",
              " 'romanian': 'ro',\n",
              " 'russian': 'ru',\n",
              " 'samoan': 'sm',\n",
              " 'sanskrit': 'sa',\n",
              " 'scots gaelic': 'gd',\n",
              " 'sepedi': 'nso',\n",
              " 'serbian': 'sr',\n",
              " 'sesotho': 'st',\n",
              " 'shona': 'sn',\n",
              " 'sindhi': 'sd',\n",
              " 'sinhala': 'si',\n",
              " 'slovak': 'sk',\n",
              " 'slovenian': 'sl',\n",
              " 'somali': 'so',\n",
              " 'spanish': 'es',\n",
              " 'sundanese': 'su',\n",
              " 'swahili': 'sw',\n",
              " 'swedish': 'sv',\n",
              " 'tajik': 'tg',\n",
              " 'tamil': 'ta',\n",
              " 'tatar': 'tt',\n",
              " 'telugu': 'te',\n",
              " 'thai': 'th',\n",
              " 'tigrinya': 'ti',\n",
              " 'tsonga': 'ts',\n",
              " 'turkish': 'tr',\n",
              " 'turkmen': 'tk',\n",
              " 'twi': 'ak',\n",
              " 'ukrainian': 'uk',\n",
              " 'urdu': 'ur',\n",
              " 'uyghur': 'ug',\n",
              " 'uzbek': 'uz',\n",
              " 'vietnamese': 'vi',\n",
              " 'welsh': 'cy',\n",
              " 'xhosa': 'xh',\n",
              " 'yiddish': 'yi',\n",
              " 'yoruba': 'yo',\n",
              " 'zulu': 'zu'}"
            ]
          },
          "metadata": {},
          "execution_count": 58
        }
      ]
    }
  ]
}