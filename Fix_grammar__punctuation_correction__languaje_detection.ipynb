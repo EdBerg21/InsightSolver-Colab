{
  "cells": [
    {
      "cell_type": "markdown",
      "metadata": {
        "id": "view-in-github",
        "colab_type": "text"
      },
      "source": [
        "<a href=\"https://colab.research.google.com/github/R3gm/Colab-resources/blob/main/Fix_grammar__punctuation_correction__languaje_detection.ipynb\" target=\"_parent\"><img src=\"https://colab.research.google.com/assets/colab-badge.svg\" alt=\"Open In Colab\"/></a>"
      ]
    },
    {
      "cell_type": "markdown",
      "source": [
        "Original repository: https://github.com/machinelearnear/asr-restore-punctuation-summarization-biomedical-ehr"
      ],
      "metadata": {
        "id": "FqtZetj0L7nW"
      },
      "id": "FqtZetj0L7nW"
    },
    {
      "cell_type": "markdown",
      "id": "54167e9c-e214-4079-a4e1-49fbb0cc44ac",
      "metadata": {
        "id": "54167e9c-e214-4079-a4e1-49fbb0cc44ac"
      },
      "source": [
        "# Restore Punctuation with Hugging Face Transformers"
      ]
    },
    {
      "cell_type": "code",
      "source": [
        "!pip install -q deepmultilingualpunctuation fasttext-langdetect autocorrect spellchecker pyspellchecker"
      ],
      "metadata": {
        "colab": {
          "base_uri": "https://localhost:8080/"
        },
        "id": "_P8cmiKOGlVA",
        "outputId": "ecde9e8f-eb21-4e72-a7ae-6f180569dcca"
      },
      "id": "_P8cmiKOGlVA",
      "execution_count": 35,
      "outputs": [
        {
          "output_type": "stream",
          "name": "stdout",
          "text": [
            "\u001b[2K     \u001b[90m━━━━━━━━━━━━━━━━━━━━━━━━━━━━━━━━━━━━━━━━\u001b[0m \u001b[32m7.1/7.1 MB\u001b[0m \u001b[31m38.1 MB/s\u001b[0m eta \u001b[36m0:00:00\u001b[0m\n",
            "\u001b[2K     \u001b[90m━━━━━━━━━━━━━━━━━━━━━━━━━━━━━━━━━━━━━━\u001b[0m \u001b[32m224.5/224.5 kB\u001b[0m \u001b[31m23.2 MB/s\u001b[0m eta \u001b[36m0:00:00\u001b[0m\n",
            "\u001b[2K     \u001b[90m━━━━━━━━━━━━━━━━━━━━━━━━━━━━━━━━━━━━━━━━\u001b[0m \u001b[32m7.8/7.8 MB\u001b[0m \u001b[31m58.7 MB/s\u001b[0m eta \u001b[36m0:00:00\u001b[0m\n",
            "\u001b[?25h"
          ]
        }
      ]
    },
    {
      "cell_type": "markdown",
      "id": "7599a193-b905-49a3-882b-c68e8d1963b7",
      "metadata": {
        "id": "7599a193-b905-49a3-882b-c68e8d1963b7"
      },
      "source": [
        "## Fix grammar mistakes"
      ]
    },
    {
      "cell_type": "code",
      "source": [
        "!mkdir /content/transcripts"
      ],
      "metadata": {
        "id": "IiSfmH0oGVXF"
      },
      "id": "IiSfmH0oGVXF",
      "execution_count": 6,
      "outputs": []
    },
    {
      "cell_type": "code",
      "source": [
        "%%writefile transcripts/transcribed_speech_hf_pipelines.txt\n",
        "estamos con marcelo ferre es gastro enterólogo cómo le va a doctor buenas noches unasa ver hoy charlaba con nuestros compañeros de trabajo y decía no pero murió de un cáncer y había otra enfermedad previa y cómo es estocuéntenos la enfermedad de croncque esla enfermedad de cron correcto fernando la enfermedad de cron es una enfermedad inflamatoria del intestino sque entra dentro del grupo de las enfermedades inflamatorias intestinales que son enfermedades crónicas son autoinmunes tienen una base genética son raras en el sentido del diagnóstico son poco frecuentes hay pacientes en todo el país empacientes con esta enfermedad nada más nada más en todo el país o al menos diagnosticados se diagnosticado y conocido sicon algún seguimiento por parte de sus médicos uno cada chabitantes puede tener esta enfermedad aunque no la diagnostiquemos tan frecuentemente y en realidadcuesta diagnosticarla en el sentido al no verla y al no estar en contacto con ellos el diagnóstico es de difícil acceso eldoctor cuéntenos por ejemplo esa imagen que estamos observando nosotrosaimagen completa por favor dire vamos a agradecer porqe eldoctor vamos a utilizar una cuestión didáctica esto es un video que nosotros bajamos de las redes como para entender cuálesporahí estamos viendo el aparato digestio correcto en ese aparato digestivo la lupa se está posando en dónde en el intestino delgado yahí va hacía el grueso ahí va ahacía el gruesoeesta enfermedad se manifiesta en el grueso en el delgado o en ambos enambos desde la boca alano aopor eso las complicaciones tremendas porlas complicaciones que tiene la enfermedad cuando no se le diagnosticuae y no se la atrata esta enfermedad es mortal en realidad es una enfermedad crónica y como todas las enfermedades crónicas yo se la comparo con una diabetes por ejemploes una enfermedad que puede terminar siendo mortal pero si no se la controla primero si no se la diagnostica no se la controla y no tiene un seguimiento yo puedo intuir que tengo la enfermedad debien digo de cron por qué síntomas lossíntomas más comunes generalmente gente entre  taños esla edad del debut y tienen dolor abdominal pueden tener diarrea pueden tener fiebre pueden tener algún sangrado intestinal pero a su vez tienen manifestaciones extraintestinales como pueden ser dolores articulares es decir es una enfermedad sistémica es una enfermedad que no solamente puede afectar el intestino delgado quees msu parte más frecuente lugar  que lo afecta puede afectar el colón pero también hay enfermedad de crón de estómago de sófago son más raras dentro de la rareza de la propia enfermedad estas también son más raras las localizacione nosotrosentendemos que en estos espacios lo que vemos hacer es no llenar de miedo sino que instruir a través de la palabra de utdsye los profesionales de cómo no puede estar advertido esto porque por ejemplo si tengo diarrea esta noche no significa que estoy enfermo para itimatología puede responder un montón de cosas me comió un lechón y me cayó mal pero lo que te quiero decir des estos elementos qsonaquellos que se conjugan para establecer un primer diagnóstico una aproximación yenel caso de hendler aél le demandó como trebarracuatro años para diagnosticarla porque son difíciles de diagnosticar al verse poco son difíciles de diagnosticar todo depende por donde uno vaya a consultar si vos me dices yo voy con estos síntomas que acabamos de hablar a un médico clínico por ahí es más gamodifícil para el clínico que para un gastro enterólogo que las vemos más pero no significa que el clínico no las pueda diagnosticar también las puede diagnosticalguna preguntaesta enfermedad podemos decir que decanta en el cáncer que luego termina con la vida de genre o no necesariamente una cosa vaatada a la otra no necesariamente la enfermedad de crón es una enfermedad repito crónica autinmune que si tiene un seguimiento y tiene un tratamiento no debería terminar en un cancertres patas del tratamiento que usted por ejemplo me diagnosticaría a mí si usted dice mireidalgo usted tiene o padece esta patología tres patas del tratamiento enel tratamiento básicamente tiene que haber un tratamiento psicológicoporque ese paciente tiene que tener una contención tiene que tener un seguimiento y tiene que entender de que esta enfermedad la puede llevar hasta el final de sus días y morir de cualquier otra cosa menos de a enfermedad de crom es muy importante el enfoque y el apoyo psicológico después el tratamiento médico hoy endía hay tratamiento farmacológico un tratamiento farmacológico con anticuerpos monoclonales es un tratamiento realmente que hoy lo curre en todas las obras sociales es decir tiene tratamiento no tiene cura tiene trataiteneso cambia los hábitos de alimentación también los hábitos de alimentación también estos pacientes tienen una dieta a seguir una dieta más conveniente una dieta saludablerica en fibras con un cuidado especial del intestino no es una dieta que no la pueda hacer o sea no es algo extraordinario si vienes una enfermedad rara cuando se detecta se la puede tratar dctor le ha tocado diagnosticar sísss claro no son muchos los pacientes que hahy el mendoza menos site imagina que a nivel país hay ade los que están documentados estadificados y demás es poco frecuente usted ha podido llevar adelante buenos tratamientos sitenés buenos resultados por qué me habloó el tratamiento psicológico porque es una parte muy importante del paciéntte todas las enfermedades inflamatorias del intestino tienen que tener un acompañamiento psicológico porque están influenciando se considera quel intestino es el segundo cerebro y tiene comunicación con nuestro primer cerebro que es el que la geneque todos conocemoshabitualmente exactamente y de la armonía de los dos cerebros el resultado también del seguimiento deestresfastidios ira cibilidad alibrmentaciónmacedentaría mostavaquismo alcolismo bueno todo lo que te puedas imaginar agrede y tiene sus consecuencias doctorcomo mensaje final no hay que temerles estas cosas sino que hay que enfrentarlas y tratarlas totalmente estos pacientes tienen un seguimiento tienen un tratamiento y no es sinónimo ypara tranquilidad de todos estos pacientes que pueden tener o nos pueden estar escuchando no es sinónimo que van a padecer un cáncer deintestino ni mucho menos tienen exactamente estos pacientes las mismas posibilidades de hacer un cáncer de colón que cualquier otro paciente siempre y cuando estén en tratamiento y en seguimiento rhasido umuy amabl gracias por su tiempo buenas noches"
      ],
      "metadata": {
        "colab": {
          "base_uri": "https://localhost:8080/"
        },
        "id": "5WMggkVAFbez",
        "outputId": "c0f55505-9b4f-49af-a37e-89036534c41e"
      },
      "id": "5WMggkVAFbez",
      "execution_count": 7,
      "outputs": [
        {
          "output_type": "stream",
          "name": "stdout",
          "text": [
            "Writing transcripts/transcribed_speech_hf_pipelines.txt\n"
          ]
        }
      ]
    },
    {
      "cell_type": "markdown",
      "id": "06230192-7d96-4d29-a1fa-864841172516",
      "metadata": {
        "id": "06230192-7d96-4d29-a1fa-864841172516"
      },
      "source": [
        "### Load transcript"
      ]
    },
    {
      "cell_type": "code",
      "execution_count": 8,
      "id": "a207b52f-4731-46b3-bd2a-91dd0b541751",
      "metadata": {
        "tags": [],
        "id": "a207b52f-4731-46b3-bd2a-91dd0b541751"
      },
      "outputs": [],
      "source": [
        "input_text = open('transcripts/transcribed_speech_hf_pipelines.txt','r').readlines()[0]"
      ]
    },
    {
      "cell_type": "code",
      "execution_count": 9,
      "id": "75498413-5cd3-4511-9bef-96411fa55042",
      "metadata": {
        "id": "75498413-5cd3-4511-9bef-96411fa55042",
        "outputId": "39990da5-32fa-4879-fa46-cc30c67d11a7",
        "colab": {
          "base_uri": "https://localhost:8080/",
          "height": 311
        }
      },
      "outputs": [
        {
          "output_type": "execute_result",
          "data": {
            "text/plain": [
              "'estamos con marcelo ferre es gastro enterólogo cómo le va a doctor buenas noches unasa ver hoy charlaba con nuestros compañeros de trabajo y decía no pero murió de un cáncer y había otra enfermedad previa y cómo es estocuéntenos la enfermedad de croncque esla enfermedad de cron correcto fernando la enfermedad de cron es una enfermedad inflamatoria del intestino sque entra dentro del grupo de las enfermedades inflamatorias intestinales que son enfermedades crónicas son autoinmunes tienen una base genética son raras en el sentido del diagnóstico son poco frecuentes hay pacientes en todo el país empacientes con esta enfermedad nada más nada más en todo el país o al menos diagnosticados se diagnosticado y conocido sicon algún seguimiento por parte de sus médicos uno cada chabitantes puede tener esta enfermedad aunque no la diagnostiquemos tan frecuentemente y en realidadcuesta diagnosticarla en el sentido al no verla y al no estar en contacto con ellos el diagnóstico es de difícil acceso eldoctor cuéntenos por ejemplo esa imagen que estamos observando nosotrosaimagen completa por favor dire vamos a agradecer porqe eldoctor vamos a utilizar una cuestión didáctica esto es un video que nosotros bajamos de las redes como para entender cuálesporahí estamos viendo el aparato digestio correcto en ese aparato digestivo la lupa se está posando en dónde en el intestino delgado yahí va hacía el grueso ahí va ahacía el gruesoeesta enfermedad se manifiesta en el grueso en el delgado o en ambos enambos desde la boca alano aopor eso las complicaciones tremendas porlas complicaciones que tiene la enfermedad cuando no se le diagnosticuae y no se la atrata esta enfermedad es mortal en realidad es una enfermedad crónica y como todas las enfermedades crónicas yo se la comparo con una diabetes por ejemploes una enfermedad que puede terminar siendo mortal pero si no se la controla primero si no se la diagnostica no se la controla y no tiene un seguimiento yo puedo intuir que tengo la enfermedad debien digo de cron por qué síntomas lossíntomas más comunes generalmente gente entre  taños esla edad del debut y tienen dolor abdominal pueden tener diarrea pueden tener fiebre pueden tener algún sangrado intestinal pero a su vez tienen manifestaciones extraintestinales como pueden ser dolores articulares es decir es una enfermedad sistémica es una enfermedad que no solamente puede afectar el intestino delgado quees msu parte más frecuente lugar  que lo afecta puede afectar el colón pero también hay enfermedad de crón de estómago de sófago son más raras dentro de la rareza de la propia enfermedad estas también son más raras las localizacione nosotrosentendemos que en estos espacios lo que vemos hacer es no llenar de miedo sino que instruir a través de la palabra de utdsye los profesionales de cómo no puede estar advertido esto porque por ejemplo si tengo diarrea esta noche no significa que estoy enfermo para itimatología puede responder un montón de cosas me comió un lechón y me cayó mal pero lo que te quiero decir des estos elementos qsonaquellos que se conjugan para establecer un primer diagnóstico una aproximación yenel caso de hendler aél le demandó como trebarracuatro años para diagnosticarla porque son difíciles de diagnosticar al verse poco son difíciles de diagnosticar todo depende por donde uno vaya a consultar si vos me dices yo voy con estos síntomas que acabamos de hablar a un médico clínico por ahí es más gamodifícil para el clínico que para un gastro enterólogo que las vemos más pero no significa que el clínico no las pueda diagnosticar también las puede diagnosticalguna preguntaesta enfermedad podemos decir que decanta en el cáncer que luego termina con la vida de genre o no necesariamente una cosa vaatada a la otra no necesariamente la enfermedad de crón es una enfermedad repito crónica autinmune que si tiene un seguimiento y tiene un tratamiento no debería terminar en un cancertres patas del tratamiento que usted por ejemplo me diagnosticaría a mí si usted dice mireidalgo usted tiene o padece esta patología tres patas del tratamiento enel tratamiento básicamente tiene que haber un tratamiento psicológicoporque ese paciente tiene que tener una contención tiene que tener un seguimiento y tiene que entender de que esta enfermedad la puede llevar hasta el final de sus días y morir de cualquier otra cosa menos de a enfermedad de crom es muy importante el enfoque y el apoyo psicológico después el tratamiento médico hoy endía hay tratamiento farmacológico un tratamiento farmacológico con anticuerpos monoclonales es un tratamiento realmente que hoy lo curre en todas las obras sociales es decir tiene tratamiento no tiene cura tiene trataiteneso cambia los hábitos de alimentación también los hábitos de alimentación también estos pacientes tienen una dieta a seguir una dieta más conveniente una dieta saludablerica en fibras con un cuidado especial del intestino no es una dieta que no la pueda hacer o sea no es algo extraordinario si vienes una enfermedad rara cuando se detecta se la puede tratar dctor le ha tocado diagnosticar sísss claro no son muchos los pacientes que hahy el mendoza menos site imagina que a nivel país hay ade los que están documentados estadificados y demás es poco frecuente usted ha podido llevar adelante buenos tratamientos sitenés buenos resultados por qué me habloó el tratamiento psicológico porque es una parte muy importante del paciéntte todas las enfermedades inflamatorias del intestino tienen que tener un acompañamiento psicológico porque están influenciando se considera quel intestino es el segundo cerebro y tiene comunicación con nuestro primer cerebro que es el que la geneque todos conocemoshabitualmente exactamente y de la armonía de los dos cerebros el resultado también del seguimiento deestresfastidios ira cibilidad alibrmentaciónmacedentaría mostavaquismo alcolismo bueno todo lo que te puedas imaginar agrede y tiene sus consecuencias doctorcomo mensaje final no hay que temerles estas cosas sino que hay que enfrentarlas y tratarlas totalmente estos pacientes tienen un seguimiento tienen un tratamiento y no es sinónimo ypara tranquilidad de todos estos pacientes que pueden tener o nos pueden estar escuchando no es sinónimo que van a padecer un cáncer deintestino ni mucho menos tienen exactamente estos pacientes las mismas posibilidades de hacer un cáncer de colón que cualquier otro paciente siempre y cuando estén en tratamiento y en seguimiento rhasido umuy amabl gracias por su tiempo buenas noches\\n'"
            ],
            "application/vnd.google.colaboratory.intrinsic+json": {
              "type": "string"
            }
          },
          "metadata": {},
          "execution_count": 9
        }
      ],
      "source": [
        "input_text"
      ]
    },
    {
      "cell_type": "markdown",
      "id": "4c6f7d2b-1447-4cf6-bb07-d3e4d38c9806",
      "metadata": {
        "id": "4c6f7d2b-1447-4cf6-bb07-d3e4d38c9806"
      },
      "source": [
        "### Using `pyspellchecker`\n",
        "- https://pyspellchecker.readthedocs.io/en/latest/index.html"
      ]
    },
    {
      "cell_type": "code",
      "execution_count": 14,
      "id": "8905ab42-d40e-4d66-9084-0df199260433",
      "metadata": {
        "id": "8905ab42-d40e-4d66-9084-0df199260433"
      },
      "outputs": [],
      "source": [
        "from spellchecker import SpellChecker\n",
        "\n",
        "spell_py = SpellChecker(language='es', distance=2)  # Spanish dictionary"
      ]
    },
    {
      "cell_type": "code",
      "execution_count": 17,
      "id": "5333c425-2c6e-4fd4-8558-d0789a034dbe",
      "metadata": {
        "id": "5333c425-2c6e-4fd4-8558-d0789a034dbe"
      },
      "outputs": [],
      "source": [
        "processed_text = spell_py.correction(input_text)"
      ]
    },
    {
      "cell_type": "code",
      "source": [
        "processed_text"
      ],
      "metadata": {
        "colab": {
          "base_uri": "https://localhost:8080/",
          "height": 311
        },
        "id": "3Oi4HbRTHIlo",
        "outputId": "32d0de0d-f345-47ba-b70a-8e366f479cf4"
      },
      "id": "3Oi4HbRTHIlo",
      "execution_count": 16,
      "outputs": [
        {
          "output_type": "execute_result",
          "data": {
            "text/plain": [
              "'estamos con marcelo ferre es gastro enterólogo cómo le va a doctor buenas noches unasa ver hoy charlaba con nuestros compañeros de trabajo y decía no pero murió de un cáncer y había otra enfermedad previa y cómo es estocuéntenos la enfermedad de croncque esla enfermedad de cron correcto fernando la enfermedad de cron es una enfermedad inflamatoria del intestino sque entra dentro del grupo de las enfermedades inflamatorias intestinales que son enfermedades crónicas son autoinmunes tienen una base genética son raras en el sentido del diagnóstico son poco frecuentes hay pacientes en todo el país empacientes con esta enfermedad nada más nada más en todo el país o al menos diagnosticados se diagnosticado y conocido sicon algún seguimiento por parte de sus médicos uno cada chabitantes puede tener esta enfermedad aunque no la diagnostiquemos tan frecuentemente y en realidadcuesta diagnosticarla en el sentido al no verla y al no estar en contacto con ellos el diagnóstico es de difícil acceso eldoctor cuéntenos por ejemplo esa imagen que estamos observando nosotrosaimagen completa por favor dire vamos a agradecer porqe eldoctor vamos a utilizar una cuestión didáctica esto es un video que nosotros bajamos de las redes como para entender cuálesporahí estamos viendo el aparato digestio correcto en ese aparato digestivo la lupa se está posando en dónde en el intestino delgado yahí va hacía el grueso ahí va ahacía el gruesoeesta enfermedad se manifiesta en el grueso en el delgado o en ambos enambos desde la boca alano aopor eso las complicaciones tremendas porlas complicaciones que tiene la enfermedad cuando no se le diagnosticuae y no se la atrata esta enfermedad es mortal en realidad es una enfermedad crónica y como todas las enfermedades crónicas yo se la comparo con una diabetes por ejemploes una enfermedad que puede terminar siendo mortal pero si no se la controla primero si no se la diagnostica no se la controla y no tiene un seguimiento yo puedo intuir que tengo la enfermedad debien digo de cron por qué síntomas lossíntomas más comunes generalmente gente entre  taños esla edad del debut y tienen dolor abdominal pueden tener diarrea pueden tener fiebre pueden tener algún sangrado intestinal pero a su vez tienen manifestaciones extraintestinales como pueden ser dolores articulares es decir es una enfermedad sistémica es una enfermedad que no solamente puede afectar el intestino delgado quees msu parte más frecuente lugar  que lo afecta puede afectar el colón pero también hay enfermedad de crón de estómago de sófago son más raras dentro de la rareza de la propia enfermedad estas también son más raras las localizacione nosotrosentendemos que en estos espacios lo que vemos hacer es no llenar de miedo sino que instruir a través de la palabra de utdsye los profesionales de cómo no puede estar advertido esto porque por ejemplo si tengo diarrea esta noche no significa que estoy enfermo para itimatología puede responder un montón de cosas me comió un lechón y me cayó mal pero lo que te quiero decir des estos elementos qsonaquellos que se conjugan para establecer un primer diagnóstico una aproximación yenel caso de hendler aél le demandó como trebarracuatro años para diagnosticarla porque son difíciles de diagnosticar al verse poco son difíciles de diagnosticar todo depende por donde uno vaya a consultar si vos me dices yo voy con estos síntomas que acabamos de hablar a un médico clínico por ahí es más gamodifícil para el clínico que para un gastro enterólogo que las vemos más pero no significa que el clínico no las pueda diagnosticar también las puede diagnosticalguna preguntaesta enfermedad podemos decir que decanta en el cáncer que luego termina con la vida de genre o no necesariamente una cosa vaatada a la otra no necesariamente la enfermedad de crón es una enfermedad repito crónica autinmune que si tiene un seguimiento y tiene un tratamiento no debería terminar en un cancertres patas del tratamiento que usted por ejemplo me diagnosticaría a mí si usted dice mireidalgo usted tiene o padece esta patología tres patas del tratamiento enel tratamiento básicamente tiene que haber un tratamiento psicológicoporque ese paciente tiene que tener una contención tiene que tener un seguimiento y tiene que entender de que esta enfermedad la puede llevar hasta el final de sus días y morir de cualquier otra cosa menos de a enfermedad de crom es muy importante el enfoque y el apoyo psicológico después el tratamiento médico hoy endía hay tratamiento farmacológico un tratamiento farmacológico con anticuerpos monoclonales es un tratamiento realmente que hoy lo curre en todas las obras sociales es decir tiene tratamiento no tiene cura tiene trataiteneso cambia los hábitos de alimentación también los hábitos de alimentación también estos pacientes tienen una dieta a seguir una dieta más conveniente una dieta saludablerica en fibras con un cuidado especial del intestino no es una dieta que no la pueda hacer o sea no es algo extraordinario si vienes una enfermedad rara cuando se detecta se la puede tratar dctor le ha tocado diagnosticar sísss claro no son muchos los pacientes que hahy el mendoza menos site imagina que a nivel país hay ade los que están documentados estadificados y demás es poco frecuente usted ha podido llevar adelante buenos tratamientos sitenés buenos resultados por qué me habloó el tratamiento psicológico porque es una parte muy importante del paciéntte todas las enfermedades inflamatorias del intestino tienen que tener un acompañamiento psicológico porque están influenciando se considera quel intestino es el segundo cerebro y tiene comunicación con nuestro primer cerebro que es el que la geneque todos conocemoshabitualmente exactamente y de la armonía de los dos cerebros el resultado también del seguimiento deestresfastidios ira cibilidad alibrmentaciónmacedentaría mostavaquismo alcolismo bueno todo lo que te puedas imaginar agrede y tiene sus consecuencias doctorcomo mensaje final no hay que temerles estas cosas sino que hay que enfrentarlas y tratarlas totalmente estos pacientes tienen un seguimiento tienen un tratamiento y no es sinónimo ypara tranquilidad de todos estos pacientes que pueden tener o nos pueden estar escuchando no es sinónimo que van a padecer un cáncer deintestino ni mucho menos tienen exactamente estos pacientes las mismas posibilidades de hacer un cáncer de colón que cualquier otro paciente siempre y cuando estén en tratamiento y en seguimiento rhasido umuy amabl gracias por su tiempo buenas noches\\n'"
            ],
            "application/vnd.google.colaboratory.intrinsic+json": {
              "type": "string"
            }
          },
          "metadata": {},
          "execution_count": 16
        }
      ]
    },
    {
      "cell_type": "markdown",
      "id": "212e957f-f278-4d75-a67c-2ec39ec9ab96",
      "metadata": {
        "id": "212e957f-f278-4d75-a67c-2ec39ec9ab96"
      },
      "source": [
        "### Using `autocorrect`\n",
        "- https://github.com/filyp/autocorrect"
      ]
    },
    {
      "cell_type": "code",
      "execution_count": 20,
      "id": "2d82bbca-88f9-4939-bed4-ef3311d5cd19",
      "metadata": {
        "id": "2d82bbca-88f9-4939-bed4-ef3311d5cd19",
        "colab": {
          "base_uri": "https://localhost:8080/"
        },
        "outputId": "7310908f-6408-423c-f62f-6167c193473d"
      },
      "outputs": [
        {
          "output_type": "stream",
          "name": "stdout",
          "text": [
            "dictionary for this language not found, downloading...\n",
            "__________________________________________________\n",
            ">>>>>>>>>>>>>>>>>>>>>>>>>>>>>>>>>>>>>>>>>>>>>>>>>>\n",
            "done!\n"
          ]
        }
      ],
      "source": [
        "from autocorrect import Speller\n",
        "spell_autocorrect = Speller(lang='es',only_replacements=True)"
      ]
    },
    {
      "cell_type": "code",
      "execution_count": 21,
      "id": "66df5199-1fd9-434d-88f8-982bd79b0bc4",
      "metadata": {
        "id": "66df5199-1fd9-434d-88f8-982bd79b0bc4",
        "outputId": "b6cda669-f4e3-4516-ca3b-da4c1924cbf7",
        "colab": {
          "base_uri": "https://localhost:8080/",
          "height": 311
        }
      },
      "outputs": [
        {
          "output_type": "execute_result",
          "data": {
            "text/plain": [
              "'estamos con marcelo ferre es gastro entomólogo cómo le va a doctor buenas noches usada ver hoy charlaba con nuestros compañeros de trabajo y decía no pero murió de un cáncer y había otra enfermedad previa y cómo es estocuéntenos la enfermedad de croncque esta enfermedad de cron correcto fernando la enfermedad de cron es una enfermedad inflamatoria del intestino ique entra dentro del grupo de las enfermedades inflamatorias intestinales que son enfermedades crónicas son autoinmunes tienen una base genética son raras en el sentido del diagnóstico son poco frecuentes hay pacientes en todo el país impacientes con esta enfermedad nada más nada más en todo el país o al menos diagnosticados se diagnosticado y conocido simon algún seguimiento por parte de sus médicos uno cada chabitantes puede tener esta enfermedad aunque no la diagnostiquemos tan frecuentemente y en realidadcuesta diagnosticaron en el sentido al no verla y al no estar en contacto con ellos el diagnóstico es de difícil acceso eldoctor cuéntenos por ejemplo esa imagen que estamos observando nosotrosaimagen completa por favor dire vamos a agradecer porte eldoctor vamos a utilizar una cuestión didáctica esto es un video que nosotros basamos de las redes como para entender cuálesporahí estamos viendo el aparato digestio correcto en ese aparato digestivo la lupa se está posando en dónde en el intestino delgado yang va hacía el grueso ahí va abadía el gruesoeesta enfermedad se manifiesta en el grueso en el delgado o en ambos enambos desde la boca alano color eso las complicaciones tremendas perlas complicaciones que tiene la enfermedad cuando no se le diagnosticuae y no se la atrata esta enfermedad es mortal en realidad es una enfermedad crónica y como todas las enfermedades crónicas yo se la compara con una diabetes por ejemploes una enfermedad que puede terminar siendo mortal pero si no se la controla primero si no se la diagnostica no se la controla y no tiene un seguimiento yo puedo intuir que tengo la enfermedad debian digo de cron por qué síntomas lossíntomas más comunes generalmente gente entre  daños esta edad del debut y tienen dolor abdominal pueden tener diarrea pueden tener fiebre pueden tener algún sangrado intestinal pero a su vez tienen manifestaciones extraintestinales como pueden ser dolores articulares es decir es una enfermedad sistémica es una enfermedad que no solamente puede afectar el intestino delgado quees msu parte más frecuente lugar  que lo afecta puede afectar el colón pero también hay enfermedad de crin de estómago de sótano son más raras dentro de la rareza de la propia enfermedad estas también son más raras las localizacione nosotrosentendemos que en estos espacios lo que vemos hacer es no llenar de miedo sino que instruir a través de la palabra de utdsye los profesionales de cómo no puede estar advertido esto porque por ejemplo si tengo diarrea esta noche no significa que estoy enfermo para climatología puede responder un montón de cosas me comió un lechón y me cayó mal pero lo que te quiero decir des estos elementos qsonaquellos que se conjugan para establecer un primer diagnóstico una aproximación yenes caso de handler all le demandó como trebarracuatro años para diagnosticaron porque son difíciles de diagnosticar al verse poco son difíciles de diagnosticar todo depende por donde uno vaya a consultar si vos me dices yo voy con estos síntomas que acabamos de hablar a un médico clínico por ahí es más gamodifícil para el clínico que para un gastro entomólogo que las vemos más pero no significa que el clínico no las pueda diagnosticar también las puede diagnosticalguna preguntaesta enfermedad podemos decir que decanta en el cáncer que luego termina con la vida de genre o no necesariamente una cosa variada a la otra no necesariamente la enfermedad de crin es una enfermedad repito crónica autinmune que si tiene un seguimiento y tiene un tratamiento no debería terminar en un cancertres patas del tratamiento que usted por ejemplo me diagnosticaron a mí si usted dice mireidalgo usted tiene o padece esta patología tres patas del tratamiento enel tratamiento básicamente tiene que haber un tratamiento psicológicoporque ese paciente tiene que tener una contención tiene que tener un seguimiento y tiene que entender de que esta enfermedad la puede llevar hasta el final de sus días y morir de cualquier otra cosa menos de a enfermedad de from es muy importante el enfoque y el apoyo psicológico después el tratamiento médico hoy envía hay tratamiento farmacológico un tratamiento farmacológico con anticuerpos monoclonales es un tratamiento realmente que hoy lo cubre en todas las obras sociales es decir tiene tratamiento no tiene cura tiene trataiteneso cambia los hábitos de alimentación también los hábitos de alimentación también estos pacientes tienen una dieta a seguir una dieta más conveniente una dieta saludablerica en fibras con un cuidado especial del intestino no es una dieta que no la pueda hacer o sea no es algo extraordinario si vienes una enfermedad rara cuando se detecta se la puede tratar actor le ha tocado diagnosticar swiss claro no son muchos los pacientes que hahn el mendoza menos site imagina que a nivel país hay ade los que están documentados estadificados y demás es poco frecuente usted ha podido llevar adelante buenos tratamientos sirenas buenos resultados por qué me hablar el tratamiento psicológico porque es una parte muy importante del paciéntte todas las enfermedades inflamatorias del intestino tienen que tener un acompañamiento psicológico porque están influenciando se considera quel intestino es el segundo cerebro y tiene comunicación con nuestro primer cerebro que es el que la penique todos conocemoshabitualmente exactamente y de la armonía de los dos cerebros el resultado también del seguimiento deestresfastidios ira civilidad alibrmentaciónmacedentaría mostavaquismo alcolismo bueno todo lo que te puedas imaginar agrede y tiene sus consecuencias doctorcomo mensaje final no hay que tenerlos estas cosas sino que hay que enfrentarlos y tratarlas totalmente estos pacientes tienen un seguimiento tienen un tratamiento y no es sinónimo ópera tranquilidad de todos estos pacientes que pueden tener o nos pueden estar escuchando no es sinónimo que van a padecer un cáncer deintestino ni mucho menos tienen exactamente estos pacientes las mismas posibilidades de hacer un cáncer de colón que cualquier otro paciente siempre y cuando estén en tratamiento y en seguimiento rhasido emmy amaba gracias por su tiempo buenas noches\\n'"
            ],
            "application/vnd.google.colaboratory.intrinsic+json": {
              "type": "string"
            }
          },
          "metadata": {},
          "execution_count": 21
        }
      ],
      "source": [
        "processed_text_b = spell_autocorrect(input_text)\n",
        "processed_text_b"
      ]
    },
    {
      "cell_type": "markdown",
      "id": "6eff5f93-0aba-466d-b1bf-22dca757f2e7",
      "metadata": {
        "id": "6eff5f93-0aba-466d-b1bf-22dca757f2e7"
      },
      "source": [
        "## Using Silero \n",
        "Source: https://colab.research.google.com/github/snakers4/silero-models/blob/master/examples_te.ipynb"
      ]
    },
    {
      "cell_type": "code",
      "execution_count": 22,
      "id": "e34b7012-3379-4f6b-983f-613bbaa282f6",
      "metadata": {
        "id": "e34b7012-3379-4f6b-983f-613bbaa282f6"
      },
      "outputs": [],
      "source": [
        "import os\n",
        "import yaml\n",
        "import torch\n",
        "from torch import package\n",
        "\n",
        "torch.hub.download_url_to_file('https://raw.githubusercontent.com/snakers4/silero-models/master/models.yml',\n",
        "                               'latest_silero_models.yml',\n",
        "                               progress=False)\n",
        "\n",
        "with open('latest_silero_models.yml', 'r') as yaml_file:\n",
        "    models = yaml.load(yaml_file, Loader=yaml.SafeLoader)\n",
        "model_conf = models.get('te_models').get('latest')"
      ]
    },
    {
      "cell_type": "code",
      "execution_count": 23,
      "id": "cbf12465-5ef8-485e-8daa-c4c81640d234",
      "metadata": {
        "id": "cbf12465-5ef8-485e-8daa-c4c81640d234",
        "outputId": "2834143a-5f99-4029-f385-3daebcc08f5f",
        "colab": {
          "base_uri": "https://localhost:8080/"
        }
      },
      "outputs": [
        {
          "output_type": "stream",
          "name": "stdout",
          "text": [
            "Available languages ['en', 'de', 'ru', 'es']\n",
            "Available punctuation marks ['.', ',', '-', '!', '?', '—']\n"
          ]
        }
      ],
      "source": [
        "# see avaiable languages\n",
        "available_languages = list(model_conf.get('languages'))\n",
        "print(f'Available languages {available_languages}')\n",
        "\n",
        "# and punctuation marks\n",
        "available_punct = list(model_conf.get('punct'))\n",
        "print(f'Available punctuation marks {available_punct}')"
      ]
    },
    {
      "cell_type": "markdown",
      "id": "3e5a3e76-1841-437d-adcb-13f26ccd41e9",
      "metadata": {
        "id": "3e5a3e76-1841-437d-adcb-13f26ccd41e9"
      },
      "source": [
        "### With language label"
      ]
    },
    {
      "cell_type": "code",
      "execution_count": 24,
      "id": "74153e23-268a-40d3-af23-82f43a70f7a8",
      "metadata": {
        "id": "74153e23-268a-40d3-af23-82f43a70f7a8",
        "colab": {
          "base_uri": "https://localhost:8080/"
        },
        "outputId": "c4b34d20-6414-4d7b-c931-06b68f67f17e"
      },
      "outputs": [
        {
          "output_type": "stream",
          "name": "stderr",
          "text": [
            "100%|██████████| 87.5M/87.5M [00:04<00:00, 21.6MB/s]\n"
          ]
        }
      ],
      "source": [
        "model_url = model_conf.get('package')\n",
        "\n",
        "model_dir = \"downloaded_model\"\n",
        "os.makedirs(model_dir, exist_ok=True)\n",
        "model_path = os.path.join(model_dir, os.path.basename(model_url))\n",
        "\n",
        "if not os.path.isfile(model_path):\n",
        "    torch.hub.download_url_to_file(model_url,\n",
        "                                   model_path,\n",
        "                                   progress=True)\n",
        "\n",
        "imp = package.PackageImporter(model_path)\n",
        "model = imp.load_pickle(\"te_model\", \"model\")\n",
        "\n",
        "def apply_te(text, lan='es'):\n",
        "    return model.enhance_text(text, lan)"
      ]
    },
    {
      "cell_type": "code",
      "execution_count": 25,
      "id": "8a588be9-4604-409a-b90e-03971f2c8e24",
      "metadata": {
        "id": "8a588be9-4604-409a-b90e-03971f2c8e24",
        "outputId": "39330ed6-aa0e-4fa6-d828-94f5e191abf1",
        "colab": {
          "base_uri": "https://localhost:8080/",
          "height": 311
        }
      },
      "outputs": [
        {
          "output_type": "execute_result",
          "data": {
            "text/plain": [
              "'Estamos con Marcelo Ferre es gastro enterólogo Cómo le va a doctor buenas noches Unasa ver hoy charlaba con nuestros compañeros de trabajo y decía no, pero murió de un cáncer y había otra enfermedad previa y cómo es estocuéntenos. La enfermedad de Croncque esla enfermedad de Cron correcto Fernando. La enfermedad de Cron es una enfermedad inflamatoria del intestino sque entra dentro del grupo de las enfermedades inflamatorias intestinales que son enfermedades crónicas son autoinmunes tienen una base genética. Son raras en el sentido del diagnóstico. Son poco frecuentes hay pacientes en todo el país empacientes con esta enfermedad nada más nada más en todo el país o al menos diagnosticados. Se diagnosticado y conocido sicon algún seguimiento por parte de sus médicos. Uno cada chabitantes puede tener esta enfermedad, aunque no la diagnostiquemos tan frecuentemente y en realidadcuesta diagnosticarla en el sentido al no verla y al no. estar en contacto con ellos el diagnóstico es de difícil acceso. Eldoctor cuéntenos, por ejemplo, esa imagen que estamos observando nosotrosaimagen completa por favor dire vamos a agradecer porqe. Eldoctor vamos a utilizar una cuestión didáctica. Esto es un video que nosotros bajamos de las redes como para entender cuálesporahí Estamos viendo el aparato digestio correcto En ese aparato digestivo. La lupa se está posando en dónde en el intestino delgado yahí va hacía el grueso ahí va ahacía el gruesoeesta enfermedad se manifiesta en el grueso en el delgado o en ambos enambos desde la boca alano aopor eso las complicaciones tremendas porlas complicaciones que tiene la enfermedad cuando no se le diagnosticuae y no se la atrata. Esta enfermedad es mortal en realidad es una enfermedad crónica y como todas las enfermedades crónicas. Yo se la comparo con una diabetes por ejemploes una enfermedad que puede terminar siendo. mortal, pero si no se la controla primero si no se la diagnostica, no se la controla y no tiene un seguimiento. Yo puedo intuir que tengo la enfermedad debien digo de cron, por qué síntomas lossíntomas más comunes generalmente gente entre taños esla edad del debut y tienen dolor abdominal. Pueden tener diarrea. Pueden tener fiebre. Pueden tener algún sangrado intestinal, pero a su vez tienen manifestaciones extraintestinales, como pueden ser dolores articulares. Es decir, es una enfermedad sistémica. Es una enfermedad que no solamente puede afectar el intestino delgado. Quees MsU parte más frecuente lugar que lo afecta puede afectar el colón, pero también hay enfermedad de crón de estómago de sófago. Son más raras dentro de la rareza de la propia enfermedad. Estas también son más raras. Las localizacione nosotrosentendemos que en estos espacios lo que vemos hacer es no llenar de miedo, sino que instruir a través de la palabra de UtDsye. Los profesionales de cómo no puede estar advertido esto porque por ejemplo, si tengo diarrea esta noche no significa que estoy enfermo para itimatología puede responder un montón de cosas. Me comió un lechón y me cayó mal, pero lo que te quiero decir des estos elementos qsonaquellos que se conjugan para establecer un primer diagnóstico. Una aproximación yenel caso de Hendler Aél le demandó como trebarracuatro años para diagnosticarla porque son difíciles de diagnosticar al verse poco son difíciles de diagnosticar todo depende por donde uno vaya a consultar. Si vos me dices yo voy con estos síntomas que acabamos de hablar a un médico clínico. Por ahí es más gamodifícil para el clínico que para un gastro enterólogo que las vemos más. Pero no significa que el clínico no las pueda diagnosticar. También las puede diagnosticalguna preguntaesta enfermedad podemos decir que decanta en el cáncer que luego termina con la vida de genre o no necesariamente una cosa vaatada a la otra no necesariamente. La enfermedad de crón es una enfermedad repito crónica autinmune que si tiene un seguimiento y tiene un tratamiento no debería terminar en un cancertres patas del tratamiento que usted, por ejemplo, me diagnosticaría a mí si usted dice mireidalgo usted tiene o padece esta patología tres patas del tratamiento enel tratamiento básicamente tiene que haber un tratamiento psicológicoporque. Ese paciente tiene que tener una contención. Tiene que tener un seguimiento y tiene que entender de que esta enfermedad la puede llevar hasta el final de sus días y morir de cualquier otra cosa menos de a enfermedad de Crom es muy importante el enfoque y el apoyo. psicológico después el tratamiento médico hoy endía Hay tratamiento farmacológico. Un tratamiento farmacológico con anticuerpos monoclonales. Es un tratamiento realmente que hoy lo curre en todas las obras sociales. Es decir, tiene tratamiento no tiene cura tiene trataiteneso cambia los hábitos de alimentación, También los hábitos de alimentación. También estos pacientes tienen una dieta a seguir una dieta más conveniente. Una dieta saludablerica en fibras con un cuidado especial del intestino. No es una dieta que no la pueda hacer o sea no es algo extraordinario si vienes una enfermedad rara cuando se detecta se la puede tratar Dctor le ha tocado diagnosticar sísss claro. No son muchos los pacientes que hahy el mendoza menos site imagina que a nivel país hay ade los que están documentados estadificados y demás es poco frecuente usted ha podido llevar adelante buenos tratamientos sitenés buenos resultados, por qué me habloó el tratamiento psicológico. Porque es una parte muy importante del paciéntte. Todas las enfermedades inflamatorias del intestino tienen que tener un acompañamiento psicológico porque están influenciando Se considera quel intestino. Es el segundo cerebro y tiene comunicación con nuestro primer cerebro que es el que la geneque todos conocemoshabitualmente exactamente y de la armonía de los dos cerebros. El resultado también del seguimiento deestresfastidios ira cibilidad alibrmentaciónmacedentaría mostavaquismo alcolismo bueno todo lo que te puedas imaginar agrede y tiene sus consecuencias Doctorcomo mensaje final. No hay que temerles estas cosas, sino que hay que enfrentarlas y tratarlas totalmente. Estos pacientes tienen un seguimiento tienen un tratamiento y no es sinónimo ypara tranquilidad de todos estos pacientes que pueden tener o nos pueden estar escuchando. No es sinónimo que van a padecer un cáncer deintestino ni mucho menos tienen exactamente estos pacientes. Las mismas posibilidades de hacer un cáncer de colón que cualquier otro. Paciente siempre y cuando estén en tratamiento y en seguimiento rhasido Umuy Amabl gracias por su tiempo buenas noches.'"
            ],
            "application/vnd.google.colaboratory.intrinsic+json": {
              "type": "string"
            }
          },
          "metadata": {},
          "execution_count": 25
        }
      ],
      "source": [
        "output_text = apply_te(processed_text, lan='es')\n",
        "output_text"
      ]
    },
    {
      "cell_type": "markdown",
      "id": "51d5e814-e608-4505-a2e4-ca844f68b07e",
      "metadata": {
        "id": "51d5e814-e608-4505-a2e4-ca844f68b07e"
      },
      "source": [
        "### With fasttext for language detection"
      ]
    },
    {
      "cell_type": "code",
      "source": [
        "text_beta = processed_text.replace(\"\\n\",\"\")"
      ],
      "metadata": {
        "id": "Utfu_kTkKrk4"
      },
      "id": "Utfu_kTkKrk4",
      "execution_count": 42,
      "outputs": []
    },
    {
      "cell_type": "code",
      "execution_count": 43,
      "id": "b3a4a486-406b-45ff-9747-e590d9a0b4f7",
      "metadata": {
        "id": "b3a4a486-406b-45ff-9747-e590d9a0b4f7",
        "outputId": "3ac6d982-49e2-4e21-bbe5-7c7ffe4faa36",
        "colab": {
          "base_uri": "https://localhost:8080/"
        }
      },
      "outputs": [
        {
          "output_type": "stream",
          "name": "stdout",
          "text": [
            "Detected language: es\n"
          ]
        }
      ],
      "source": [
        "from ftlangdetect import detect\n",
        "\n",
        "lan = detect(text=text_beta, low_memory=False)['lang']\n",
        "print(f\"Detected language: {lan}\")"
      ]
    },
    {
      "cell_type": "code",
      "execution_count": 31,
      "id": "10ba43c6-d668-42f2-ad47-4c5c6e64ddbb",
      "metadata": {
        "id": "10ba43c6-d668-42f2-ad47-4c5c6e64ddbb",
        "outputId": "c93436f9-585c-4571-f484-35e6eb5e0efc",
        "colab": {
          "base_uri": "https://localhost:8080/"
        }
      },
      "outputs": [
        {
          "output_type": "stream",
          "name": "stderr",
          "text": [
            "/usr/local/lib/python3.10/dist-packages/torch/hub.py:286: UserWarning: You are about to download and run code from an untrusted repository. In a future release, this won't be allowed. To add the repository to your trusted list, change the command to {calling_fn}(..., trust_repo=False) and a command prompt will appear asking for an explicit confirmation of trust, or load(..., trust_repo=True), which will assume that the prompt is to be answered with 'yes'. You can also use load(..., trust_repo='check') which will only prompt for confirmation if the repo is not already trusted. This will eventually be the default behaviour\n",
            "  warnings.warn(\n",
            "Downloading: \"https://github.com/snakers4/silero-models/zipball/master\" to /root/.cache/torch/hub/master.zip\n",
            "100%|██████████| 87.5M/87.5M [00:04<00:00, 21.5MB/s]\n"
          ]
        }
      ],
      "source": [
        "import torch\n",
        "\n",
        "model, example_texts, languages, punct, apply_te = torch.hub.load(repo_or_dir='snakers4/silero-models',\n",
        "                                                                  model='silero_te')"
      ]
    },
    {
      "cell_type": "code",
      "execution_count": 33,
      "id": "dc9ffdb2-6d53-4947-acaa-e4f158acd246",
      "metadata": {
        "id": "dc9ffdb2-6d53-4947-acaa-e4f158acd246",
        "outputId": "7c67d279-9903-4747-d657-0f381aa8b2a7",
        "colab": {
          "base_uri": "https://localhost:8080/",
          "height": 311
        }
      },
      "outputs": [
        {
          "output_type": "execute_result",
          "data": {
            "text/plain": [
              "'Estamos con Marcelo Ferre es gastro enterólogo Cómo le va a doctor buenas noches Unasa ver hoy charlaba con nuestros compañeros de trabajo y decía no, pero murió de un cáncer y había otra enfermedad previa y cómo es estocuéntenos. La enfermedad de Croncque esla enfermedad de Cron correcto Fernando. La enfermedad de Cron es una enfermedad inflamatoria del intestino sque entra dentro del grupo de las enfermedades inflamatorias intestinales que son enfermedades crónicas son autoinmunes tienen una base genética. Son raras en el sentido del diagnóstico. Son poco frecuentes hay pacientes en todo el país empacientes con esta enfermedad nada más nada más en todo el país o al menos diagnosticados. Se diagnosticado y conocido sicon algún seguimiento por parte de sus médicos. Uno cada chabitantes puede tener esta enfermedad, aunque no la diagnostiquemos tan frecuentemente y en realidadcuesta diagnosticarla en el sentido al no verla y al no. estar en contacto con ellos el diagnóstico es de difícil acceso. Eldoctor cuéntenos, por ejemplo, esa imagen que estamos observando nosotrosaimagen completa por favor dire vamos a agradecer porqe. Eldoctor vamos a utilizar una cuestión didáctica. Esto es un video que nosotros bajamos de las redes como para entender cuálesporahí Estamos viendo el aparato digestio correcto En ese aparato digestivo. La lupa se está posando en dónde en el intestino delgado yahí va hacía el grueso ahí va ahacía el gruesoeesta enfermedad se manifiesta en el grueso en el delgado o en ambos enambos desde la boca alano aopor eso las complicaciones tremendas porlas complicaciones que tiene la enfermedad cuando no se le diagnosticuae y no se la atrata. Esta enfermedad es mortal en realidad es una enfermedad crónica y como todas las enfermedades crónicas. Yo se la comparo con una diabetes por ejemploes una enfermedad que puede terminar siendo. mortal, pero si no se la controla primero si no se la diagnostica, no se la controla y no tiene un seguimiento. Yo puedo intuir que tengo la enfermedad debien digo de cron, por qué síntomas lossíntomas más comunes generalmente gente entre taños esla edad del debut y tienen dolor abdominal. Pueden tener diarrea. Pueden tener fiebre. Pueden tener algún sangrado intestinal, pero a su vez tienen manifestaciones extraintestinales, como pueden ser dolores articulares. Es decir, es una enfermedad sistémica. Es una enfermedad que no solamente puede afectar el intestino delgado. Quees MsU parte más frecuente lugar que lo afecta puede afectar el colón, pero también hay enfermedad de crón de estómago de sófago. Son más raras dentro de la rareza de la propia enfermedad. Estas también son más raras. Las localizacione nosotrosentendemos que en estos espacios lo que vemos hacer es no llenar de miedo, sino que instruir a través de la palabra de UtDsye. Los profesionales de cómo no puede estar advertido esto porque por ejemplo, si tengo diarrea esta noche no significa que estoy enfermo para itimatología puede responder un montón de cosas. Me comió un lechón y me cayó mal, pero lo que te quiero decir des estos elementos qsonaquellos que se conjugan para establecer un primer diagnóstico. Una aproximación yenel caso de Hendler Aél le demandó como trebarracuatro años para diagnosticarla porque son difíciles de diagnosticar al verse poco son difíciles de diagnosticar todo depende por donde uno vaya a consultar. Si vos me dices yo voy con estos síntomas que acabamos de hablar a un médico clínico. Por ahí es más gamodifícil para el clínico que para un gastro enterólogo que las vemos más. Pero no significa que el clínico no las pueda diagnosticar. También las puede diagnosticalguna preguntaesta enfermedad podemos decir que decanta en el cáncer que luego termina con la vida de genre o no necesariamente una cosa vaatada a la otra no necesariamente. La enfermedad de crón es una enfermedad repito crónica autinmune que si tiene un seguimiento y tiene un tratamiento no debería terminar en un cancertres patas del tratamiento que usted, por ejemplo, me diagnosticaría a mí si usted dice mireidalgo usted tiene o padece esta patología tres patas del tratamiento enel tratamiento básicamente tiene que haber un tratamiento psicológicoporque. Ese paciente tiene que tener una contención. Tiene que tener un seguimiento y tiene que entender de que esta enfermedad la puede llevar hasta el final de sus días y morir de cualquier otra cosa menos de a enfermedad de Crom es muy importante el enfoque y el apoyo. psicológico después el tratamiento médico hoy endía Hay tratamiento farmacológico. Un tratamiento farmacológico con anticuerpos monoclonales. Es un tratamiento realmente que hoy lo curre en todas las obras sociales. Es decir, tiene tratamiento no tiene cura tiene trataiteneso cambia los hábitos de alimentación, También los hábitos de alimentación. También estos pacientes tienen una dieta a seguir una dieta más conveniente. Una dieta saludablerica en fibras con un cuidado especial del intestino. No es una dieta que no la pueda hacer o sea no es algo extraordinario si vienes una enfermedad rara cuando se detecta se la puede tratar Dctor le ha tocado diagnosticar sísss claro. No son muchos los pacientes que hahy el mendoza menos site imagina que a nivel país hay ade los que están documentados estadificados y demás es poco frecuente usted ha podido llevar adelante buenos tratamientos sitenés buenos resultados, por qué me habloó el tratamiento psicológico. Porque es una parte muy importante del paciéntte. Todas las enfermedades inflamatorias del intestino tienen que tener un acompañamiento psicológico porque están influenciando Se considera quel intestino. Es el segundo cerebro y tiene comunicación con nuestro primer cerebro que es el que la geneque todos conocemoshabitualmente exactamente y de la armonía de los dos cerebros. El resultado también del seguimiento deestresfastidios ira cibilidad alibrmentaciónmacedentaría mostavaquismo alcolismo bueno todo lo que te puedas imaginar agrede y tiene sus consecuencias Doctorcomo mensaje final. No hay que temerles estas cosas, sino que hay que enfrentarlas y tratarlas totalmente. Estos pacientes tienen un seguimiento tienen un tratamiento y no es sinónimo ypara tranquilidad de todos estos pacientes que pueden tener o nos pueden estar escuchando. No es sinónimo que van a padecer un cáncer deintestino ni mucho menos tienen exactamente estos pacientes. Las mismas posibilidades de hacer un cáncer de colón que cualquier otro. Paciente siempre y cuando estén en tratamiento y en seguimiento rhasido Umuy Amabl gracias por su tiempo buenas noches.'"
            ],
            "application/vnd.google.colaboratory.intrinsic+json": {
              "type": "string"
            }
          },
          "metadata": {},
          "execution_count": 33
        }
      ],
      "source": [
        "output_text = apply_te(processed_text, lan='es')\n",
        "output_text"
      ]
    },
    {
      "cell_type": "markdown",
      "id": "61e930ff-f9d8-402b-a560-0d839d3c601f",
      "metadata": {
        "id": "61e930ff-f9d8-402b-a560-0d839d3c601f"
      },
      "source": [
        "## Using \"Deep Multilingual Punctuation\""
      ]
    },
    {
      "cell_type": "markdown",
      "id": "9bf27e47-5914-4a93-8db8-2b0a8ec072b3",
      "metadata": {
        "id": "9bf27e47-5914-4a93-8db8-2b0a8ec072b3"
      },
      "source": [
        "The `PunctuationModel` class an process texts of any length. Note that processing of very long texts can be time consuming."
      ]
    },
    {
      "cell_type": "code",
      "execution_count": 36,
      "id": "eb348773-ce60-4e81-8946-53f20ec5fd10",
      "metadata": {
        "id": "eb348773-ce60-4e81-8946-53f20ec5fd10"
      },
      "outputs": [],
      "source": [
        "from deepmultilingualpunctuation import PunctuationModel"
      ]
    },
    {
      "cell_type": "code",
      "execution_count": 37,
      "id": "808dd6dd-4a04-4507-b65d-5075507cc055",
      "metadata": {
        "id": "808dd6dd-4a04-4507-b65d-5075507cc055",
        "outputId": "40eb5943-3c66-4063-df78-19ec2e5cd774",
        "colab": {
          "base_uri": "https://localhost:8080/",
          "height": 376,
          "referenced_widgets": [
            "21b077fa268c4a5093b2e6eb0db66d98",
            "745e25796db647788fd5e14795dcca41",
            "3f08e8c69eb040c1b32377b44d376004",
            "5de8cfd36fed4340a757881fb64207c6",
            "9cf13bc8bb12489dbf650873e5d741b5",
            "c993d86975ee4c898861cf0265c9a997",
            "850d995210144cefaa22332cb3c97b29",
            "1f2d55ad9d014973ba37136cdcb7c795",
            "4ec11d745c0946b3b4140ae761c4979b",
            "c79d2e26fbd845119a082a0a1a9a5295",
            "195f22b72ca74b4dad8f476bb9962819",
            "ff998234e5214a6cafd85486087f82f0",
            "23fe1430adb24595aebe8e1b31aa43f8",
            "900515d2913d4977a4c5454fe77c56b8",
            "a957cae79d5b4a269d052d77fbcc1620",
            "a24a6767949b4ae6894ed7bec706a343",
            "d4a02a886d6b4da6adc7e9eb8621d689",
            "c18026a60d72431581f03998c024c8cd",
            "3b79d136238a447ba9e81f584f7bbcad",
            "ab5df2e0491b4f4b87acac43a49490fb",
            "9891517aa3b14dc99dac197d5bd82259",
            "835688cb49f9421bac65a3f563955508",
            "5f22c03c196249aebc54a045cdd5cba6",
            "c398931723d94b12a06a7441847a66aa",
            "37071dcbdd174c68adce12a400223545",
            "750c3d745ed74903838582d351d133e6",
            "74ca5b90357447849f433ed2e3024f5b",
            "6569f2af5f044feca84ddf9eaf9196d6",
            "191df1c5b5f64601a750705ba45365e4",
            "089d3b21f9e941b88d6a8e4ce3bf1eda",
            "080f3c56510741859b9e8fc923a9c6ac",
            "776a4e140bd24d23865188dd8ab73365",
            "59d682bfb0cc4e80821ca0cd944ea770",
            "2b5d9cfa33574d5195bf9aff48677aad",
            "56a20d2c9dc14b099e724398fc7e5a16",
            "b5c946a1353d46ae89bc6709fea33bd7",
            "67941f0a3012473b9211e1775d9cb5fc",
            "1720bfe4a9fa49c59c11f70a81f17ad2",
            "b9051ad1affd459492268aeb15a0a4c4",
            "abf559fed0e34ae69ab659e148c3eb58",
            "74d36cc585cf4fd0b4511cfa23388344",
            "c7fa04fbc46a44839fd6e09eb35058e9",
            "e2325e98fef54b7eaaf9b99c48cda015",
            "1e07efbabf734afe9816dbe4bb73c178",
            "91cc74fe58fb4c27bda3d09557d5c383",
            "e00645b5d34640c9afa02ec53ad202d4",
            "d958463f4d2346d79f91d9b7b8cdf914",
            "ec9295ba6f2949d29493706b35fc2b0c",
            "6c2f0c6b5cb54e649acada7599a12528",
            "e8a1b1a8ad8b4a3a8bebdaaf9c01dfe6",
            "5098362ca68c40bf9c0bd9a4b05d3ce7",
            "f8bc843cb9494de58afc8a791efa3e60",
            "39f210b3603a4e179ad0c5f9492535c3",
            "4ef7b270313c4721b7e9d36ffe3bf64b",
            "95185a2905db4297a3be4e2796924f47"
          ]
        }
      },
      "outputs": [
        {
          "output_type": "display_data",
          "data": {
            "text/plain": [
              "Downloading (…)lve/main/config.json:   0%|          | 0.00/914 [00:00<?, ?B/s]"
            ],
            "application/vnd.jupyter.widget-view+json": {
              "version_major": 2,
              "version_minor": 0,
              "model_id": "21b077fa268c4a5093b2e6eb0db66d98"
            }
          },
          "metadata": {}
        },
        {
          "output_type": "display_data",
          "data": {
            "text/plain": [
              "Downloading pytorch_model.bin:   0%|          | 0.00/1.11G [00:00<?, ?B/s]"
            ],
            "application/vnd.jupyter.widget-view+json": {
              "version_major": 2,
              "version_minor": 0,
              "model_id": "ff998234e5214a6cafd85486087f82f0"
            }
          },
          "metadata": {}
        },
        {
          "output_type": "display_data",
          "data": {
            "text/plain": [
              "Downloading (…)okenizer_config.json:   0%|          | 0.00/447 [00:00<?, ?B/s]"
            ],
            "application/vnd.jupyter.widget-view+json": {
              "version_major": 2,
              "version_minor": 0,
              "model_id": "5f22c03c196249aebc54a045cdd5cba6"
            }
          },
          "metadata": {}
        },
        {
          "output_type": "display_data",
          "data": {
            "text/plain": [
              "Downloading tokenizer.json:   0%|          | 0.00/17.1M [00:00<?, ?B/s]"
            ],
            "application/vnd.jupyter.widget-view+json": {
              "version_major": 2,
              "version_minor": 0,
              "model_id": "2b5d9cfa33574d5195bf9aff48677aad"
            }
          },
          "metadata": {}
        },
        {
          "output_type": "display_data",
          "data": {
            "text/plain": [
              "Downloading (…)cial_tokens_map.json:   0%|          | 0.00/239 [00:00<?, ?B/s]"
            ],
            "application/vnd.jupyter.widget-view+json": {
              "version_major": 2,
              "version_minor": 0,
              "model_id": "91cc74fe58fb4c27bda3d09557d5c383"
            }
          },
          "metadata": {}
        },
        {
          "output_type": "stream",
          "name": "stderr",
          "text": [
            "/usr/local/lib/python3.10/dist-packages/transformers/pipelines/token_classification.py:169: UserWarning: `grouped_entities` is deprecated and will be removed in version v5.0.0, defaulted to `aggregation_strategy=\"none\"` instead.\n",
            "  warnings.warn(\n"
          ]
        }
      ],
      "source": [
        "model = PunctuationModel(model='oliverguhr/fullstop-punctuation-multilingual-base')"
      ]
    },
    {
      "cell_type": "code",
      "execution_count": 38,
      "id": "9f2f6844-c6d7-4ee6-9980-ec3ce9d228dd",
      "metadata": {
        "id": "9f2f6844-c6d7-4ee6-9980-ec3ce9d228dd",
        "outputId": "569c2564-d61c-4dee-a2c1-ae991397c296",
        "colab": {
          "base_uri": "https://localhost:8080/",
          "height": 311
        }
      },
      "outputs": [
        {
          "output_type": "execute_result",
          "data": {
            "text/plain": [
              "'Estamos con Marcelo Ferre. es gastro enterólogo. Cómo le va a doctor? buenas noches. Unasa ver, hoy charlaba con nuestros compañeros de trabajo y decía: no, pero murió de un cáncer y había otra enfermedad previa. y cómo es estocuéntenos La enfermedad de Croncque? esla enfermedad de Cron, correcto, Fernando? La enfermedad de Cron es una enfermedad inflamatoria del intestino sque entra dentro del grupo de las enfermedades inflamatorias intestinales, que son enfermedades crónicas, son autoinmunes, tienen una base genética, Son raras en el sentido del diagnóstico, Son poco frecuentes. hay pacientes en todo el país empacientes con esta enfermedad, nada más, nada más en todo el país, o al menos diagnosticados, Se diagnosticado y conocido, sicon algún seguimiento por parte de sus médicos. Uno cada chabitantes puede tener esta enfermedad, aunque no la diagnostiquemos tan frecuentemente y en realidadcuesta diagnosticarla en el sentido al no verla y al no estar en contacto con ellos. el diagnóstico es de difícil acceso. Eldoctor, cuéntenos, por ejemplo, esa imagen que estamos observando nosotrosaimagen completa. por favor dire: vamos a agradecer porqe Eldoctor, vamos a utilizar una cuestión didáctica- Esto es un video que nosotros bajamos de las redes, como para entender cuálesporahí Estamos viendo el aparato digestio correcto. En ese aparato digestivo, La lupa se está posando en dónde, en el intestino delgado, yahí va hacía el grueso. ahí va ahacía el gruesoeesta enfermedad se manifiesta en el grueso, en el delgado o en ambos enambos, desde la boca alano aopor eso las complicaciones tremendas porlas complicaciones que tiene la enfermedad cuando no se le diagnosticuae y no se la atrata. Esta enfermedad es mortal. en realidad es una enfermedad crónica y, como todas las enfermedades crónicas, Yo se la comparo con una diabetes, por ejemploes una enfermedad que puede terminar siendo mortal, pero si no se la controla primero, si no se la diagnostica, no se la controla y no tiene un seguimiento. Yo puedo intuir que tengo la enfermedad, debien digo de cron. por qué síntomas? lossíntomas más comunes, generalmente gente entre taños, esla edad del debut y tienen dolor abdominal. Pueden tener diarrea, Pueden tener fiebre, Pueden tener algún sangrado intestinal, pero a su vez tienen manifestaciones extraintestinales, como pueden ser dolores articulares. Es decir, es una enfermedad sistémica. Es una enfermedad que no solamente puede afectar el intestino delgado, Quees MsU, parte más frecuente, lugar que lo afecta. puede afectar el colón, pero también hay enfermedad de crón, de estómago, de sófago. Son más raras. dentro de la rareza de la propia enfermedad, Estas también son más raras Las localizacione. nosotrosentendemos que en estos espacios, lo que vemos hacer es no llenar de miedo, sino que instruir a través de la palabra de UtDsye Los profesionales, de cómo no puede estar advertido esto? porque, por ejemplo, si tengo diarrea esta noche, no significa que estoy enfermo para itimatología. puede responder un montón de cosas. Me comió un lechón y me cayó mal. pero lo que te quiero decir des estos elementos qsonaquellos que se conjugan para establecer un primer diagnóstico, Una aproximación yenel caso de Hendler Aél le demandó como trebarracuatro años para diagnosticarla, porque son difíciles de diagnosticar. al verse poco, son difíciles de diagnosticar. todo depende por donde uno vaya a consultar. Si vos me dices, yo voy con estos síntomas que acabamos de hablar a un médico clínico Por ahí es más gamodifícil para el clínico que para un gastro enterólogo, que las vemos más. Pero no significa que el clínico no las pueda diagnosticar. También las puede diagnosticalguna preguntaesta enfermedad podemos decir que decanta en el cáncer, que luego termina con la vida de genre o no necesariamente una cosa vaatada a la otra? no necesariamente. La enfermedad de crón es una enfermedad, repito, crónica, autinmune, que, si tiene un seguimiento y tiene un tratamiento, no debería terminar en un cancertres patas del tratamiento que usted, por ejemplo, me diagnosticaría a mí. si usted dice, mireidalgo, usted tiene o padece esta patología, tres patas del tratamiento enel tratamiento básicamente tiene que haber un tratamiento psicológicoporque Ese paciente tiene que tener una contención, Tiene que tener un seguimiento y tiene que entender de que esta enfermedad la puede llevar hasta el final de sus días y morir de cualquier otra cosa, menos de a enfermedad de Crom. es muy importante el enfoque y el apoyo psicológico. después el tratamiento médico. hoy endía Hay tratamiento farmacológico, Un tratamiento farmacológico con anticuerpos monoclonales. Es un tratamiento realmente que hoy lo curre en todas las obras sociales. Es decir: tiene tratamiento, no tiene cura, tiene trataiteneso cambia los hábitos de alimentación, También los hábitos de alimentación. También estos pacientes tienen una dieta a seguir, una dieta más conveniente, Una dieta saludablerica en fibras, con un cuidado especial del intestino. No es una dieta que no la pueda hacer, o sea no es algo extraordinario. si vienes una enfermedad rara, cuando se detecta, se la puede tratar. Dctor, le ha tocado diagnosticar sísss. claro, No son muchos los pacientes que hahy el mendoza menos site imagina que a nivel país hay ade, los que están documentados, estadificados y demás. es poco frecuente. usted ha podido llevar adelante buenos tratamientos sitenés buenos resultados. por qué me habloó el tratamiento psicológico? Porque es una parte muy importante del paciéntte. Todas las enfermedades inflamatorias del intestino tienen que tener un acompañamiento psicológico, porque están influenciando. Se considera quel intestino Es el segundo cerebro y tiene comunicación con nuestro primer cerebro, que es el que la geneque todos conocemoshabitualmente exactamente, y de la armonía de los dos cerebros, El resultado también del seguimiento deestresfastidios, ira, cibilidad, alibrmentaciónmacedentaría, mostavaquismo, alcolismo. bueno, todo lo que te puedas imaginar agrede y tiene sus consecuencias. Doctorcomo mensaje final, No hay que temerles estas cosas, sino que hay que enfrentarlas y tratarlas totalmente. Estos pacientes tienen un seguimiento, tienen un tratamiento, y no es sinónimo ypara tranquilidad de todos estos pacientes que pueden tener o nos pueden estar escuchando. No es sinónimo que van a padecer un cáncer deintestino, ni mucho menos tienen exactamente estos pacientes Las mismas posibilidades de hacer un cáncer de colón que cualquier otro Paciente, siempre y cuando estén en tratamiento y en seguimiento. rhasido Umuy Amabl, gracias por su tiempo. buenas noches.'"
            ],
            "application/vnd.google.colaboratory.intrinsic+json": {
              "type": "string"
            }
          },
          "metadata": {},
          "execution_count": 38
        }
      ],
      "source": [
        "result = model.restore_punctuation(output_text)\n",
        "result"
      ]
    },
    {
      "cell_type": "markdown",
      "id": "e99a8eca-7cc4-418b-991c-b1b1f47351d2",
      "metadata": {
        "tags": [],
        "id": "e99a8eca-7cc4-418b-991c-b1b1f47351d2"
      },
      "source": [
        "## Save results"
      ]
    },
    {
      "cell_type": "code",
      "execution_count": 39,
      "id": "d8a176be-b205-438a-8c6f-ceca6f5ae06a",
      "metadata": {
        "id": "d8a176be-b205-438a-8c6f-ceca6f5ae06a"
      },
      "outputs": [],
      "source": [
        "with open(f'transcripts/transcribed_speech_w_corrected_punctuation.txt', \"w\") as f:\n",
        "    f.write(result)"
      ]
    },
    {
      "cell_type": "markdown",
      "id": "e52f7892-5923-4db4-ae7e-749e004f96ea",
      "metadata": {
        "id": "e52f7892-5923-4db4-ae7e-749e004f96ea"
      },
      "source": [
        "## References"
      ]
    },
    {
      "cell_type": "markdown",
      "id": "735ab3ca-2353-468b-8548-59ff44ed3a2d",
      "metadata": {
        "id": "735ab3ca-2353-468b-8548-59ff44ed3a2d"
      },
      "source": [
        "- https://huggingface.co/speeqo/bert-restore-punctuation\n",
        "- https://huggingface.co/softcatala/fullstop-catalan-punctuation-prediction\n",
        "- https://github.com/oliverguhr/fullstop-deep-punctuation-prediction\n",
        "- https://huggingface.co/kredor/punctuate-all\n",
        "- https://huggingface.co/SJ-Ray/Re-Punctuate\n",
        "- https://github.com/xashru/punctuation-restoration\n",
        "- https://github.com/snakers4/silero-models#text-enhancement"
      ]
    }
  ],
  "metadata": {
    "kernelspec": {
      "display_name": "machinelearnear-asr-clinical-biomedical-ehr:Python",
      "language": "python",
      "name": "conda-env-machinelearnear-asr-clinical-biomedical-ehr-py"
    },
    "language_info": {
      "codemirror_mode": {
        "name": "ipython",
        "version": 3
      },
      "file_extension": ".py",
      "mimetype": "text/x-python",
      "name": "python",
      "nbconvert_exporter": "python",
      "pygments_lexer": "ipython3",
      "version": "3.9.12"
    },
    "colab": {
      "provenance": [],
      "include_colab_link": true
    },
    "widgets": {
      "application/vnd.jupyter.widget-state+json": {
        "21b077fa268c4a5093b2e6eb0db66d98": {
          "model_module": "@jupyter-widgets/controls",
          "model_name": "HBoxModel",
          "model_module_version": "1.5.0",
          "state": {
            "_dom_classes": [],
            "_model_module": "@jupyter-widgets/controls",
            "_model_module_version": "1.5.0",
            "_model_name": "HBoxModel",
            "_view_count": null,
            "_view_module": "@jupyter-widgets/controls",
            "_view_module_version": "1.5.0",
            "_view_name": "HBoxView",
            "box_style": "",
            "children": [
              "IPY_MODEL_745e25796db647788fd5e14795dcca41",
              "IPY_MODEL_3f08e8c69eb040c1b32377b44d376004",
              "IPY_MODEL_5de8cfd36fed4340a757881fb64207c6"
            ],
            "layout": "IPY_MODEL_9cf13bc8bb12489dbf650873e5d741b5"
          }
        },
        "745e25796db647788fd5e14795dcca41": {
          "model_module": "@jupyter-widgets/controls",
          "model_name": "HTMLModel",
          "model_module_version": "1.5.0",
          "state": {
            "_dom_classes": [],
            "_model_module": "@jupyter-widgets/controls",
            "_model_module_version": "1.5.0",
            "_model_name": "HTMLModel",
            "_view_count": null,
            "_view_module": "@jupyter-widgets/controls",
            "_view_module_version": "1.5.0",
            "_view_name": "HTMLView",
            "description": "",
            "description_tooltip": null,
            "layout": "IPY_MODEL_c993d86975ee4c898861cf0265c9a997",
            "placeholder": "​",
            "style": "IPY_MODEL_850d995210144cefaa22332cb3c97b29",
            "value": "Downloading (…)lve/main/config.json: 100%"
          }
        },
        "3f08e8c69eb040c1b32377b44d376004": {
          "model_module": "@jupyter-widgets/controls",
          "model_name": "FloatProgressModel",
          "model_module_version": "1.5.0",
          "state": {
            "_dom_classes": [],
            "_model_module": "@jupyter-widgets/controls",
            "_model_module_version": "1.5.0",
            "_model_name": "FloatProgressModel",
            "_view_count": null,
            "_view_module": "@jupyter-widgets/controls",
            "_view_module_version": "1.5.0",
            "_view_name": "ProgressView",
            "bar_style": "success",
            "description": "",
            "description_tooltip": null,
            "layout": "IPY_MODEL_1f2d55ad9d014973ba37136cdcb7c795",
            "max": 914,
            "min": 0,
            "orientation": "horizontal",
            "style": "IPY_MODEL_4ec11d745c0946b3b4140ae761c4979b",
            "value": 914
          }
        },
        "5de8cfd36fed4340a757881fb64207c6": {
          "model_module": "@jupyter-widgets/controls",
          "model_name": "HTMLModel",
          "model_module_version": "1.5.0",
          "state": {
            "_dom_classes": [],
            "_model_module": "@jupyter-widgets/controls",
            "_model_module_version": "1.5.0",
            "_model_name": "HTMLModel",
            "_view_count": null,
            "_view_module": "@jupyter-widgets/controls",
            "_view_module_version": "1.5.0",
            "_view_name": "HTMLView",
            "description": "",
            "description_tooltip": null,
            "layout": "IPY_MODEL_c79d2e26fbd845119a082a0a1a9a5295",
            "placeholder": "​",
            "style": "IPY_MODEL_195f22b72ca74b4dad8f476bb9962819",
            "value": " 914/914 [00:00&lt;00:00, 40.4kB/s]"
          }
        },
        "9cf13bc8bb12489dbf650873e5d741b5": {
          "model_module": "@jupyter-widgets/base",
          "model_name": "LayoutModel",
          "model_module_version": "1.2.0",
          "state": {
            "_model_module": "@jupyter-widgets/base",
            "_model_module_version": "1.2.0",
            "_model_name": "LayoutModel",
            "_view_count": null,
            "_view_module": "@jupyter-widgets/base",
            "_view_module_version": "1.2.0",
            "_view_name": "LayoutView",
            "align_content": null,
            "align_items": null,
            "align_self": null,
            "border": null,
            "bottom": null,
            "display": null,
            "flex": null,
            "flex_flow": null,
            "grid_area": null,
            "grid_auto_columns": null,
            "grid_auto_flow": null,
            "grid_auto_rows": null,
            "grid_column": null,
            "grid_gap": null,
            "grid_row": null,
            "grid_template_areas": null,
            "grid_template_columns": null,
            "grid_template_rows": null,
            "height": null,
            "justify_content": null,
            "justify_items": null,
            "left": null,
            "margin": null,
            "max_height": null,
            "max_width": null,
            "min_height": null,
            "min_width": null,
            "object_fit": null,
            "object_position": null,
            "order": null,
            "overflow": null,
            "overflow_x": null,
            "overflow_y": null,
            "padding": null,
            "right": null,
            "top": null,
            "visibility": null,
            "width": null
          }
        },
        "c993d86975ee4c898861cf0265c9a997": {
          "model_module": "@jupyter-widgets/base",
          "model_name": "LayoutModel",
          "model_module_version": "1.2.0",
          "state": {
            "_model_module": "@jupyter-widgets/base",
            "_model_module_version": "1.2.0",
            "_model_name": "LayoutModel",
            "_view_count": null,
            "_view_module": "@jupyter-widgets/base",
            "_view_module_version": "1.2.0",
            "_view_name": "LayoutView",
            "align_content": null,
            "align_items": null,
            "align_self": null,
            "border": null,
            "bottom": null,
            "display": null,
            "flex": null,
            "flex_flow": null,
            "grid_area": null,
            "grid_auto_columns": null,
            "grid_auto_flow": null,
            "grid_auto_rows": null,
            "grid_column": null,
            "grid_gap": null,
            "grid_row": null,
            "grid_template_areas": null,
            "grid_template_columns": null,
            "grid_template_rows": null,
            "height": null,
            "justify_content": null,
            "justify_items": null,
            "left": null,
            "margin": null,
            "max_height": null,
            "max_width": null,
            "min_height": null,
            "min_width": null,
            "object_fit": null,
            "object_position": null,
            "order": null,
            "overflow": null,
            "overflow_x": null,
            "overflow_y": null,
            "padding": null,
            "right": null,
            "top": null,
            "visibility": null,
            "width": null
          }
        },
        "850d995210144cefaa22332cb3c97b29": {
          "model_module": "@jupyter-widgets/controls",
          "model_name": "DescriptionStyleModel",
          "model_module_version": "1.5.0",
          "state": {
            "_model_module": "@jupyter-widgets/controls",
            "_model_module_version": "1.5.0",
            "_model_name": "DescriptionStyleModel",
            "_view_count": null,
            "_view_module": "@jupyter-widgets/base",
            "_view_module_version": "1.2.0",
            "_view_name": "StyleView",
            "description_width": ""
          }
        },
        "1f2d55ad9d014973ba37136cdcb7c795": {
          "model_module": "@jupyter-widgets/base",
          "model_name": "LayoutModel",
          "model_module_version": "1.2.0",
          "state": {
            "_model_module": "@jupyter-widgets/base",
            "_model_module_version": "1.2.0",
            "_model_name": "LayoutModel",
            "_view_count": null,
            "_view_module": "@jupyter-widgets/base",
            "_view_module_version": "1.2.0",
            "_view_name": "LayoutView",
            "align_content": null,
            "align_items": null,
            "align_self": null,
            "border": null,
            "bottom": null,
            "display": null,
            "flex": null,
            "flex_flow": null,
            "grid_area": null,
            "grid_auto_columns": null,
            "grid_auto_flow": null,
            "grid_auto_rows": null,
            "grid_column": null,
            "grid_gap": null,
            "grid_row": null,
            "grid_template_areas": null,
            "grid_template_columns": null,
            "grid_template_rows": null,
            "height": null,
            "justify_content": null,
            "justify_items": null,
            "left": null,
            "margin": null,
            "max_height": null,
            "max_width": null,
            "min_height": null,
            "min_width": null,
            "object_fit": null,
            "object_position": null,
            "order": null,
            "overflow": null,
            "overflow_x": null,
            "overflow_y": null,
            "padding": null,
            "right": null,
            "top": null,
            "visibility": null,
            "width": null
          }
        },
        "4ec11d745c0946b3b4140ae761c4979b": {
          "model_module": "@jupyter-widgets/controls",
          "model_name": "ProgressStyleModel",
          "model_module_version": "1.5.0",
          "state": {
            "_model_module": "@jupyter-widgets/controls",
            "_model_module_version": "1.5.0",
            "_model_name": "ProgressStyleModel",
            "_view_count": null,
            "_view_module": "@jupyter-widgets/base",
            "_view_module_version": "1.2.0",
            "_view_name": "StyleView",
            "bar_color": null,
            "description_width": ""
          }
        },
        "c79d2e26fbd845119a082a0a1a9a5295": {
          "model_module": "@jupyter-widgets/base",
          "model_name": "LayoutModel",
          "model_module_version": "1.2.0",
          "state": {
            "_model_module": "@jupyter-widgets/base",
            "_model_module_version": "1.2.0",
            "_model_name": "LayoutModel",
            "_view_count": null,
            "_view_module": "@jupyter-widgets/base",
            "_view_module_version": "1.2.0",
            "_view_name": "LayoutView",
            "align_content": null,
            "align_items": null,
            "align_self": null,
            "border": null,
            "bottom": null,
            "display": null,
            "flex": null,
            "flex_flow": null,
            "grid_area": null,
            "grid_auto_columns": null,
            "grid_auto_flow": null,
            "grid_auto_rows": null,
            "grid_column": null,
            "grid_gap": null,
            "grid_row": null,
            "grid_template_areas": null,
            "grid_template_columns": null,
            "grid_template_rows": null,
            "height": null,
            "justify_content": null,
            "justify_items": null,
            "left": null,
            "margin": null,
            "max_height": null,
            "max_width": null,
            "min_height": null,
            "min_width": null,
            "object_fit": null,
            "object_position": null,
            "order": null,
            "overflow": null,
            "overflow_x": null,
            "overflow_y": null,
            "padding": null,
            "right": null,
            "top": null,
            "visibility": null,
            "width": null
          }
        },
        "195f22b72ca74b4dad8f476bb9962819": {
          "model_module": "@jupyter-widgets/controls",
          "model_name": "DescriptionStyleModel",
          "model_module_version": "1.5.0",
          "state": {
            "_model_module": "@jupyter-widgets/controls",
            "_model_module_version": "1.5.0",
            "_model_name": "DescriptionStyleModel",
            "_view_count": null,
            "_view_module": "@jupyter-widgets/base",
            "_view_module_version": "1.2.0",
            "_view_name": "StyleView",
            "description_width": ""
          }
        },
        "ff998234e5214a6cafd85486087f82f0": {
          "model_module": "@jupyter-widgets/controls",
          "model_name": "HBoxModel",
          "model_module_version": "1.5.0",
          "state": {
            "_dom_classes": [],
            "_model_module": "@jupyter-widgets/controls",
            "_model_module_version": "1.5.0",
            "_model_name": "HBoxModel",
            "_view_count": null,
            "_view_module": "@jupyter-widgets/controls",
            "_view_module_version": "1.5.0",
            "_view_name": "HBoxView",
            "box_style": "",
            "children": [
              "IPY_MODEL_23fe1430adb24595aebe8e1b31aa43f8",
              "IPY_MODEL_900515d2913d4977a4c5454fe77c56b8",
              "IPY_MODEL_a957cae79d5b4a269d052d77fbcc1620"
            ],
            "layout": "IPY_MODEL_a24a6767949b4ae6894ed7bec706a343"
          }
        },
        "23fe1430adb24595aebe8e1b31aa43f8": {
          "model_module": "@jupyter-widgets/controls",
          "model_name": "HTMLModel",
          "model_module_version": "1.5.0",
          "state": {
            "_dom_classes": [],
            "_model_module": "@jupyter-widgets/controls",
            "_model_module_version": "1.5.0",
            "_model_name": "HTMLModel",
            "_view_count": null,
            "_view_module": "@jupyter-widgets/controls",
            "_view_module_version": "1.5.0",
            "_view_name": "HTMLView",
            "description": "",
            "description_tooltip": null,
            "layout": "IPY_MODEL_d4a02a886d6b4da6adc7e9eb8621d689",
            "placeholder": "​",
            "style": "IPY_MODEL_c18026a60d72431581f03998c024c8cd",
            "value": "Downloading pytorch_model.bin: 100%"
          }
        },
        "900515d2913d4977a4c5454fe77c56b8": {
          "model_module": "@jupyter-widgets/controls",
          "model_name": "FloatProgressModel",
          "model_module_version": "1.5.0",
          "state": {
            "_dom_classes": [],
            "_model_module": "@jupyter-widgets/controls",
            "_model_module_version": "1.5.0",
            "_model_name": "FloatProgressModel",
            "_view_count": null,
            "_view_module": "@jupyter-widgets/controls",
            "_view_module_version": "1.5.0",
            "_view_name": "ProgressView",
            "bar_style": "success",
            "description": "",
            "description_tooltip": null,
            "layout": "IPY_MODEL_3b79d136238a447ba9e81f584f7bbcad",
            "max": 1109916337,
            "min": 0,
            "orientation": "horizontal",
            "style": "IPY_MODEL_ab5df2e0491b4f4b87acac43a49490fb",
            "value": 1109916337
          }
        },
        "a957cae79d5b4a269d052d77fbcc1620": {
          "model_module": "@jupyter-widgets/controls",
          "model_name": "HTMLModel",
          "model_module_version": "1.5.0",
          "state": {
            "_dom_classes": [],
            "_model_module": "@jupyter-widgets/controls",
            "_model_module_version": "1.5.0",
            "_model_name": "HTMLModel",
            "_view_count": null,
            "_view_module": "@jupyter-widgets/controls",
            "_view_module_version": "1.5.0",
            "_view_name": "HTMLView",
            "description": "",
            "description_tooltip": null,
            "layout": "IPY_MODEL_9891517aa3b14dc99dac197d5bd82259",
            "placeholder": "​",
            "style": "IPY_MODEL_835688cb49f9421bac65a3f563955508",
            "value": " 1.11G/1.11G [00:12&lt;00:00, 72.5MB/s]"
          }
        },
        "a24a6767949b4ae6894ed7bec706a343": {
          "model_module": "@jupyter-widgets/base",
          "model_name": "LayoutModel",
          "model_module_version": "1.2.0",
          "state": {
            "_model_module": "@jupyter-widgets/base",
            "_model_module_version": "1.2.0",
            "_model_name": "LayoutModel",
            "_view_count": null,
            "_view_module": "@jupyter-widgets/base",
            "_view_module_version": "1.2.0",
            "_view_name": "LayoutView",
            "align_content": null,
            "align_items": null,
            "align_self": null,
            "border": null,
            "bottom": null,
            "display": null,
            "flex": null,
            "flex_flow": null,
            "grid_area": null,
            "grid_auto_columns": null,
            "grid_auto_flow": null,
            "grid_auto_rows": null,
            "grid_column": null,
            "grid_gap": null,
            "grid_row": null,
            "grid_template_areas": null,
            "grid_template_columns": null,
            "grid_template_rows": null,
            "height": null,
            "justify_content": null,
            "justify_items": null,
            "left": null,
            "margin": null,
            "max_height": null,
            "max_width": null,
            "min_height": null,
            "min_width": null,
            "object_fit": null,
            "object_position": null,
            "order": null,
            "overflow": null,
            "overflow_x": null,
            "overflow_y": null,
            "padding": null,
            "right": null,
            "top": null,
            "visibility": null,
            "width": null
          }
        },
        "d4a02a886d6b4da6adc7e9eb8621d689": {
          "model_module": "@jupyter-widgets/base",
          "model_name": "LayoutModel",
          "model_module_version": "1.2.0",
          "state": {
            "_model_module": "@jupyter-widgets/base",
            "_model_module_version": "1.2.0",
            "_model_name": "LayoutModel",
            "_view_count": null,
            "_view_module": "@jupyter-widgets/base",
            "_view_module_version": "1.2.0",
            "_view_name": "LayoutView",
            "align_content": null,
            "align_items": null,
            "align_self": null,
            "border": null,
            "bottom": null,
            "display": null,
            "flex": null,
            "flex_flow": null,
            "grid_area": null,
            "grid_auto_columns": null,
            "grid_auto_flow": null,
            "grid_auto_rows": null,
            "grid_column": null,
            "grid_gap": null,
            "grid_row": null,
            "grid_template_areas": null,
            "grid_template_columns": null,
            "grid_template_rows": null,
            "height": null,
            "justify_content": null,
            "justify_items": null,
            "left": null,
            "margin": null,
            "max_height": null,
            "max_width": null,
            "min_height": null,
            "min_width": null,
            "object_fit": null,
            "object_position": null,
            "order": null,
            "overflow": null,
            "overflow_x": null,
            "overflow_y": null,
            "padding": null,
            "right": null,
            "top": null,
            "visibility": null,
            "width": null
          }
        },
        "c18026a60d72431581f03998c024c8cd": {
          "model_module": "@jupyter-widgets/controls",
          "model_name": "DescriptionStyleModel",
          "model_module_version": "1.5.0",
          "state": {
            "_model_module": "@jupyter-widgets/controls",
            "_model_module_version": "1.5.0",
            "_model_name": "DescriptionStyleModel",
            "_view_count": null,
            "_view_module": "@jupyter-widgets/base",
            "_view_module_version": "1.2.0",
            "_view_name": "StyleView",
            "description_width": ""
          }
        },
        "3b79d136238a447ba9e81f584f7bbcad": {
          "model_module": "@jupyter-widgets/base",
          "model_name": "LayoutModel",
          "model_module_version": "1.2.0",
          "state": {
            "_model_module": "@jupyter-widgets/base",
            "_model_module_version": "1.2.0",
            "_model_name": "LayoutModel",
            "_view_count": null,
            "_view_module": "@jupyter-widgets/base",
            "_view_module_version": "1.2.0",
            "_view_name": "LayoutView",
            "align_content": null,
            "align_items": null,
            "align_self": null,
            "border": null,
            "bottom": null,
            "display": null,
            "flex": null,
            "flex_flow": null,
            "grid_area": null,
            "grid_auto_columns": null,
            "grid_auto_flow": null,
            "grid_auto_rows": null,
            "grid_column": null,
            "grid_gap": null,
            "grid_row": null,
            "grid_template_areas": null,
            "grid_template_columns": null,
            "grid_template_rows": null,
            "height": null,
            "justify_content": null,
            "justify_items": null,
            "left": null,
            "margin": null,
            "max_height": null,
            "max_width": null,
            "min_height": null,
            "min_width": null,
            "object_fit": null,
            "object_position": null,
            "order": null,
            "overflow": null,
            "overflow_x": null,
            "overflow_y": null,
            "padding": null,
            "right": null,
            "top": null,
            "visibility": null,
            "width": null
          }
        },
        "ab5df2e0491b4f4b87acac43a49490fb": {
          "model_module": "@jupyter-widgets/controls",
          "model_name": "ProgressStyleModel",
          "model_module_version": "1.5.0",
          "state": {
            "_model_module": "@jupyter-widgets/controls",
            "_model_module_version": "1.5.0",
            "_model_name": "ProgressStyleModel",
            "_view_count": null,
            "_view_module": "@jupyter-widgets/base",
            "_view_module_version": "1.2.0",
            "_view_name": "StyleView",
            "bar_color": null,
            "description_width": ""
          }
        },
        "9891517aa3b14dc99dac197d5bd82259": {
          "model_module": "@jupyter-widgets/base",
          "model_name": "LayoutModel",
          "model_module_version": "1.2.0",
          "state": {
            "_model_module": "@jupyter-widgets/base",
            "_model_module_version": "1.2.0",
            "_model_name": "LayoutModel",
            "_view_count": null,
            "_view_module": "@jupyter-widgets/base",
            "_view_module_version": "1.2.0",
            "_view_name": "LayoutView",
            "align_content": null,
            "align_items": null,
            "align_self": null,
            "border": null,
            "bottom": null,
            "display": null,
            "flex": null,
            "flex_flow": null,
            "grid_area": null,
            "grid_auto_columns": null,
            "grid_auto_flow": null,
            "grid_auto_rows": null,
            "grid_column": null,
            "grid_gap": null,
            "grid_row": null,
            "grid_template_areas": null,
            "grid_template_columns": null,
            "grid_template_rows": null,
            "height": null,
            "justify_content": null,
            "justify_items": null,
            "left": null,
            "margin": null,
            "max_height": null,
            "max_width": null,
            "min_height": null,
            "min_width": null,
            "object_fit": null,
            "object_position": null,
            "order": null,
            "overflow": null,
            "overflow_x": null,
            "overflow_y": null,
            "padding": null,
            "right": null,
            "top": null,
            "visibility": null,
            "width": null
          }
        },
        "835688cb49f9421bac65a3f563955508": {
          "model_module": "@jupyter-widgets/controls",
          "model_name": "DescriptionStyleModel",
          "model_module_version": "1.5.0",
          "state": {
            "_model_module": "@jupyter-widgets/controls",
            "_model_module_version": "1.5.0",
            "_model_name": "DescriptionStyleModel",
            "_view_count": null,
            "_view_module": "@jupyter-widgets/base",
            "_view_module_version": "1.2.0",
            "_view_name": "StyleView",
            "description_width": ""
          }
        },
        "5f22c03c196249aebc54a045cdd5cba6": {
          "model_module": "@jupyter-widgets/controls",
          "model_name": "HBoxModel",
          "model_module_version": "1.5.0",
          "state": {
            "_dom_classes": [],
            "_model_module": "@jupyter-widgets/controls",
            "_model_module_version": "1.5.0",
            "_model_name": "HBoxModel",
            "_view_count": null,
            "_view_module": "@jupyter-widgets/controls",
            "_view_module_version": "1.5.0",
            "_view_name": "HBoxView",
            "box_style": "",
            "children": [
              "IPY_MODEL_c398931723d94b12a06a7441847a66aa",
              "IPY_MODEL_37071dcbdd174c68adce12a400223545",
              "IPY_MODEL_750c3d745ed74903838582d351d133e6"
            ],
            "layout": "IPY_MODEL_74ca5b90357447849f433ed2e3024f5b"
          }
        },
        "c398931723d94b12a06a7441847a66aa": {
          "model_module": "@jupyter-widgets/controls",
          "model_name": "HTMLModel",
          "model_module_version": "1.5.0",
          "state": {
            "_dom_classes": [],
            "_model_module": "@jupyter-widgets/controls",
            "_model_module_version": "1.5.0",
            "_model_name": "HTMLModel",
            "_view_count": null,
            "_view_module": "@jupyter-widgets/controls",
            "_view_module_version": "1.5.0",
            "_view_name": "HTMLView",
            "description": "",
            "description_tooltip": null,
            "layout": "IPY_MODEL_6569f2af5f044feca84ddf9eaf9196d6",
            "placeholder": "​",
            "style": "IPY_MODEL_191df1c5b5f64601a750705ba45365e4",
            "value": "Downloading (…)okenizer_config.json: 100%"
          }
        },
        "37071dcbdd174c68adce12a400223545": {
          "model_module": "@jupyter-widgets/controls",
          "model_name": "FloatProgressModel",
          "model_module_version": "1.5.0",
          "state": {
            "_dom_classes": [],
            "_model_module": "@jupyter-widgets/controls",
            "_model_module_version": "1.5.0",
            "_model_name": "FloatProgressModel",
            "_view_count": null,
            "_view_module": "@jupyter-widgets/controls",
            "_view_module_version": "1.5.0",
            "_view_name": "ProgressView",
            "bar_style": "success",
            "description": "",
            "description_tooltip": null,
            "layout": "IPY_MODEL_089d3b21f9e941b88d6a8e4ce3bf1eda",
            "max": 447,
            "min": 0,
            "orientation": "horizontal",
            "style": "IPY_MODEL_080f3c56510741859b9e8fc923a9c6ac",
            "value": 447
          }
        },
        "750c3d745ed74903838582d351d133e6": {
          "model_module": "@jupyter-widgets/controls",
          "model_name": "HTMLModel",
          "model_module_version": "1.5.0",
          "state": {
            "_dom_classes": [],
            "_model_module": "@jupyter-widgets/controls",
            "_model_module_version": "1.5.0",
            "_model_name": "HTMLModel",
            "_view_count": null,
            "_view_module": "@jupyter-widgets/controls",
            "_view_module_version": "1.5.0",
            "_view_name": "HTMLView",
            "description": "",
            "description_tooltip": null,
            "layout": "IPY_MODEL_776a4e140bd24d23865188dd8ab73365",
            "placeholder": "​",
            "style": "IPY_MODEL_59d682bfb0cc4e80821ca0cd944ea770",
            "value": " 447/447 [00:00&lt;00:00, 18.5kB/s]"
          }
        },
        "74ca5b90357447849f433ed2e3024f5b": {
          "model_module": "@jupyter-widgets/base",
          "model_name": "LayoutModel",
          "model_module_version": "1.2.0",
          "state": {
            "_model_module": "@jupyter-widgets/base",
            "_model_module_version": "1.2.0",
            "_model_name": "LayoutModel",
            "_view_count": null,
            "_view_module": "@jupyter-widgets/base",
            "_view_module_version": "1.2.0",
            "_view_name": "LayoutView",
            "align_content": null,
            "align_items": null,
            "align_self": null,
            "border": null,
            "bottom": null,
            "display": null,
            "flex": null,
            "flex_flow": null,
            "grid_area": null,
            "grid_auto_columns": null,
            "grid_auto_flow": null,
            "grid_auto_rows": null,
            "grid_column": null,
            "grid_gap": null,
            "grid_row": null,
            "grid_template_areas": null,
            "grid_template_columns": null,
            "grid_template_rows": null,
            "height": null,
            "justify_content": null,
            "justify_items": null,
            "left": null,
            "margin": null,
            "max_height": null,
            "max_width": null,
            "min_height": null,
            "min_width": null,
            "object_fit": null,
            "object_position": null,
            "order": null,
            "overflow": null,
            "overflow_x": null,
            "overflow_y": null,
            "padding": null,
            "right": null,
            "top": null,
            "visibility": null,
            "width": null
          }
        },
        "6569f2af5f044feca84ddf9eaf9196d6": {
          "model_module": "@jupyter-widgets/base",
          "model_name": "LayoutModel",
          "model_module_version": "1.2.0",
          "state": {
            "_model_module": "@jupyter-widgets/base",
            "_model_module_version": "1.2.0",
            "_model_name": "LayoutModel",
            "_view_count": null,
            "_view_module": "@jupyter-widgets/base",
            "_view_module_version": "1.2.0",
            "_view_name": "LayoutView",
            "align_content": null,
            "align_items": null,
            "align_self": null,
            "border": null,
            "bottom": null,
            "display": null,
            "flex": null,
            "flex_flow": null,
            "grid_area": null,
            "grid_auto_columns": null,
            "grid_auto_flow": null,
            "grid_auto_rows": null,
            "grid_column": null,
            "grid_gap": null,
            "grid_row": null,
            "grid_template_areas": null,
            "grid_template_columns": null,
            "grid_template_rows": null,
            "height": null,
            "justify_content": null,
            "justify_items": null,
            "left": null,
            "margin": null,
            "max_height": null,
            "max_width": null,
            "min_height": null,
            "min_width": null,
            "object_fit": null,
            "object_position": null,
            "order": null,
            "overflow": null,
            "overflow_x": null,
            "overflow_y": null,
            "padding": null,
            "right": null,
            "top": null,
            "visibility": null,
            "width": null
          }
        },
        "191df1c5b5f64601a750705ba45365e4": {
          "model_module": "@jupyter-widgets/controls",
          "model_name": "DescriptionStyleModel",
          "model_module_version": "1.5.0",
          "state": {
            "_model_module": "@jupyter-widgets/controls",
            "_model_module_version": "1.5.0",
            "_model_name": "DescriptionStyleModel",
            "_view_count": null,
            "_view_module": "@jupyter-widgets/base",
            "_view_module_version": "1.2.0",
            "_view_name": "StyleView",
            "description_width": ""
          }
        },
        "089d3b21f9e941b88d6a8e4ce3bf1eda": {
          "model_module": "@jupyter-widgets/base",
          "model_name": "LayoutModel",
          "model_module_version": "1.2.0",
          "state": {
            "_model_module": "@jupyter-widgets/base",
            "_model_module_version": "1.2.0",
            "_model_name": "LayoutModel",
            "_view_count": null,
            "_view_module": "@jupyter-widgets/base",
            "_view_module_version": "1.2.0",
            "_view_name": "LayoutView",
            "align_content": null,
            "align_items": null,
            "align_self": null,
            "border": null,
            "bottom": null,
            "display": null,
            "flex": null,
            "flex_flow": null,
            "grid_area": null,
            "grid_auto_columns": null,
            "grid_auto_flow": null,
            "grid_auto_rows": null,
            "grid_column": null,
            "grid_gap": null,
            "grid_row": null,
            "grid_template_areas": null,
            "grid_template_columns": null,
            "grid_template_rows": null,
            "height": null,
            "justify_content": null,
            "justify_items": null,
            "left": null,
            "margin": null,
            "max_height": null,
            "max_width": null,
            "min_height": null,
            "min_width": null,
            "object_fit": null,
            "object_position": null,
            "order": null,
            "overflow": null,
            "overflow_x": null,
            "overflow_y": null,
            "padding": null,
            "right": null,
            "top": null,
            "visibility": null,
            "width": null
          }
        },
        "080f3c56510741859b9e8fc923a9c6ac": {
          "model_module": "@jupyter-widgets/controls",
          "model_name": "ProgressStyleModel",
          "model_module_version": "1.5.0",
          "state": {
            "_model_module": "@jupyter-widgets/controls",
            "_model_module_version": "1.5.0",
            "_model_name": "ProgressStyleModel",
            "_view_count": null,
            "_view_module": "@jupyter-widgets/base",
            "_view_module_version": "1.2.0",
            "_view_name": "StyleView",
            "bar_color": null,
            "description_width": ""
          }
        },
        "776a4e140bd24d23865188dd8ab73365": {
          "model_module": "@jupyter-widgets/base",
          "model_name": "LayoutModel",
          "model_module_version": "1.2.0",
          "state": {
            "_model_module": "@jupyter-widgets/base",
            "_model_module_version": "1.2.0",
            "_model_name": "LayoutModel",
            "_view_count": null,
            "_view_module": "@jupyter-widgets/base",
            "_view_module_version": "1.2.0",
            "_view_name": "LayoutView",
            "align_content": null,
            "align_items": null,
            "align_self": null,
            "border": null,
            "bottom": null,
            "display": null,
            "flex": null,
            "flex_flow": null,
            "grid_area": null,
            "grid_auto_columns": null,
            "grid_auto_flow": null,
            "grid_auto_rows": null,
            "grid_column": null,
            "grid_gap": null,
            "grid_row": null,
            "grid_template_areas": null,
            "grid_template_columns": null,
            "grid_template_rows": null,
            "height": null,
            "justify_content": null,
            "justify_items": null,
            "left": null,
            "margin": null,
            "max_height": null,
            "max_width": null,
            "min_height": null,
            "min_width": null,
            "object_fit": null,
            "object_position": null,
            "order": null,
            "overflow": null,
            "overflow_x": null,
            "overflow_y": null,
            "padding": null,
            "right": null,
            "top": null,
            "visibility": null,
            "width": null
          }
        },
        "59d682bfb0cc4e80821ca0cd944ea770": {
          "model_module": "@jupyter-widgets/controls",
          "model_name": "DescriptionStyleModel",
          "model_module_version": "1.5.0",
          "state": {
            "_model_module": "@jupyter-widgets/controls",
            "_model_module_version": "1.5.0",
            "_model_name": "DescriptionStyleModel",
            "_view_count": null,
            "_view_module": "@jupyter-widgets/base",
            "_view_module_version": "1.2.0",
            "_view_name": "StyleView",
            "description_width": ""
          }
        },
        "2b5d9cfa33574d5195bf9aff48677aad": {
          "model_module": "@jupyter-widgets/controls",
          "model_name": "HBoxModel",
          "model_module_version": "1.5.0",
          "state": {
            "_dom_classes": [],
            "_model_module": "@jupyter-widgets/controls",
            "_model_module_version": "1.5.0",
            "_model_name": "HBoxModel",
            "_view_count": null,
            "_view_module": "@jupyter-widgets/controls",
            "_view_module_version": "1.5.0",
            "_view_name": "HBoxView",
            "box_style": "",
            "children": [
              "IPY_MODEL_56a20d2c9dc14b099e724398fc7e5a16",
              "IPY_MODEL_b5c946a1353d46ae89bc6709fea33bd7",
              "IPY_MODEL_67941f0a3012473b9211e1775d9cb5fc"
            ],
            "layout": "IPY_MODEL_1720bfe4a9fa49c59c11f70a81f17ad2"
          }
        },
        "56a20d2c9dc14b099e724398fc7e5a16": {
          "model_module": "@jupyter-widgets/controls",
          "model_name": "HTMLModel",
          "model_module_version": "1.5.0",
          "state": {
            "_dom_classes": [],
            "_model_module": "@jupyter-widgets/controls",
            "_model_module_version": "1.5.0",
            "_model_name": "HTMLModel",
            "_view_count": null,
            "_view_module": "@jupyter-widgets/controls",
            "_view_module_version": "1.5.0",
            "_view_name": "HTMLView",
            "description": "",
            "description_tooltip": null,
            "layout": "IPY_MODEL_b9051ad1affd459492268aeb15a0a4c4",
            "placeholder": "​",
            "style": "IPY_MODEL_abf559fed0e34ae69ab659e148c3eb58",
            "value": "Downloading tokenizer.json: 100%"
          }
        },
        "b5c946a1353d46ae89bc6709fea33bd7": {
          "model_module": "@jupyter-widgets/controls",
          "model_name": "FloatProgressModel",
          "model_module_version": "1.5.0",
          "state": {
            "_dom_classes": [],
            "_model_module": "@jupyter-widgets/controls",
            "_model_module_version": "1.5.0",
            "_model_name": "FloatProgressModel",
            "_view_count": null,
            "_view_module": "@jupyter-widgets/controls",
            "_view_module_version": "1.5.0",
            "_view_name": "ProgressView",
            "bar_style": "success",
            "description": "",
            "description_tooltip": null,
            "layout": "IPY_MODEL_74d36cc585cf4fd0b4511cfa23388344",
            "max": 17082758,
            "min": 0,
            "orientation": "horizontal",
            "style": "IPY_MODEL_c7fa04fbc46a44839fd6e09eb35058e9",
            "value": 17082758
          }
        },
        "67941f0a3012473b9211e1775d9cb5fc": {
          "model_module": "@jupyter-widgets/controls",
          "model_name": "HTMLModel",
          "model_module_version": "1.5.0",
          "state": {
            "_dom_classes": [],
            "_model_module": "@jupyter-widgets/controls",
            "_model_module_version": "1.5.0",
            "_model_name": "HTMLModel",
            "_view_count": null,
            "_view_module": "@jupyter-widgets/controls",
            "_view_module_version": "1.5.0",
            "_view_name": "HTMLView",
            "description": "",
            "description_tooltip": null,
            "layout": "IPY_MODEL_e2325e98fef54b7eaaf9b99c48cda015",
            "placeholder": "​",
            "style": "IPY_MODEL_1e07efbabf734afe9816dbe4bb73c178",
            "value": " 17.1M/17.1M [00:00&lt;00:00, 42.4MB/s]"
          }
        },
        "1720bfe4a9fa49c59c11f70a81f17ad2": {
          "model_module": "@jupyter-widgets/base",
          "model_name": "LayoutModel",
          "model_module_version": "1.2.0",
          "state": {
            "_model_module": "@jupyter-widgets/base",
            "_model_module_version": "1.2.0",
            "_model_name": "LayoutModel",
            "_view_count": null,
            "_view_module": "@jupyter-widgets/base",
            "_view_module_version": "1.2.0",
            "_view_name": "LayoutView",
            "align_content": null,
            "align_items": null,
            "align_self": null,
            "border": null,
            "bottom": null,
            "display": null,
            "flex": null,
            "flex_flow": null,
            "grid_area": null,
            "grid_auto_columns": null,
            "grid_auto_flow": null,
            "grid_auto_rows": null,
            "grid_column": null,
            "grid_gap": null,
            "grid_row": null,
            "grid_template_areas": null,
            "grid_template_columns": null,
            "grid_template_rows": null,
            "height": null,
            "justify_content": null,
            "justify_items": null,
            "left": null,
            "margin": null,
            "max_height": null,
            "max_width": null,
            "min_height": null,
            "min_width": null,
            "object_fit": null,
            "object_position": null,
            "order": null,
            "overflow": null,
            "overflow_x": null,
            "overflow_y": null,
            "padding": null,
            "right": null,
            "top": null,
            "visibility": null,
            "width": null
          }
        },
        "b9051ad1affd459492268aeb15a0a4c4": {
          "model_module": "@jupyter-widgets/base",
          "model_name": "LayoutModel",
          "model_module_version": "1.2.0",
          "state": {
            "_model_module": "@jupyter-widgets/base",
            "_model_module_version": "1.2.0",
            "_model_name": "LayoutModel",
            "_view_count": null,
            "_view_module": "@jupyter-widgets/base",
            "_view_module_version": "1.2.0",
            "_view_name": "LayoutView",
            "align_content": null,
            "align_items": null,
            "align_self": null,
            "border": null,
            "bottom": null,
            "display": null,
            "flex": null,
            "flex_flow": null,
            "grid_area": null,
            "grid_auto_columns": null,
            "grid_auto_flow": null,
            "grid_auto_rows": null,
            "grid_column": null,
            "grid_gap": null,
            "grid_row": null,
            "grid_template_areas": null,
            "grid_template_columns": null,
            "grid_template_rows": null,
            "height": null,
            "justify_content": null,
            "justify_items": null,
            "left": null,
            "margin": null,
            "max_height": null,
            "max_width": null,
            "min_height": null,
            "min_width": null,
            "object_fit": null,
            "object_position": null,
            "order": null,
            "overflow": null,
            "overflow_x": null,
            "overflow_y": null,
            "padding": null,
            "right": null,
            "top": null,
            "visibility": null,
            "width": null
          }
        },
        "abf559fed0e34ae69ab659e148c3eb58": {
          "model_module": "@jupyter-widgets/controls",
          "model_name": "DescriptionStyleModel",
          "model_module_version": "1.5.0",
          "state": {
            "_model_module": "@jupyter-widgets/controls",
            "_model_module_version": "1.5.0",
            "_model_name": "DescriptionStyleModel",
            "_view_count": null,
            "_view_module": "@jupyter-widgets/base",
            "_view_module_version": "1.2.0",
            "_view_name": "StyleView",
            "description_width": ""
          }
        },
        "74d36cc585cf4fd0b4511cfa23388344": {
          "model_module": "@jupyter-widgets/base",
          "model_name": "LayoutModel",
          "model_module_version": "1.2.0",
          "state": {
            "_model_module": "@jupyter-widgets/base",
            "_model_module_version": "1.2.0",
            "_model_name": "LayoutModel",
            "_view_count": null,
            "_view_module": "@jupyter-widgets/base",
            "_view_module_version": "1.2.0",
            "_view_name": "LayoutView",
            "align_content": null,
            "align_items": null,
            "align_self": null,
            "border": null,
            "bottom": null,
            "display": null,
            "flex": null,
            "flex_flow": null,
            "grid_area": null,
            "grid_auto_columns": null,
            "grid_auto_flow": null,
            "grid_auto_rows": null,
            "grid_column": null,
            "grid_gap": null,
            "grid_row": null,
            "grid_template_areas": null,
            "grid_template_columns": null,
            "grid_template_rows": null,
            "height": null,
            "justify_content": null,
            "justify_items": null,
            "left": null,
            "margin": null,
            "max_height": null,
            "max_width": null,
            "min_height": null,
            "min_width": null,
            "object_fit": null,
            "object_position": null,
            "order": null,
            "overflow": null,
            "overflow_x": null,
            "overflow_y": null,
            "padding": null,
            "right": null,
            "top": null,
            "visibility": null,
            "width": null
          }
        },
        "c7fa04fbc46a44839fd6e09eb35058e9": {
          "model_module": "@jupyter-widgets/controls",
          "model_name": "ProgressStyleModel",
          "model_module_version": "1.5.0",
          "state": {
            "_model_module": "@jupyter-widgets/controls",
            "_model_module_version": "1.5.0",
            "_model_name": "ProgressStyleModel",
            "_view_count": null,
            "_view_module": "@jupyter-widgets/base",
            "_view_module_version": "1.2.0",
            "_view_name": "StyleView",
            "bar_color": null,
            "description_width": ""
          }
        },
        "e2325e98fef54b7eaaf9b99c48cda015": {
          "model_module": "@jupyter-widgets/base",
          "model_name": "LayoutModel",
          "model_module_version": "1.2.0",
          "state": {
            "_model_module": "@jupyter-widgets/base",
            "_model_module_version": "1.2.0",
            "_model_name": "LayoutModel",
            "_view_count": null,
            "_view_module": "@jupyter-widgets/base",
            "_view_module_version": "1.2.0",
            "_view_name": "LayoutView",
            "align_content": null,
            "align_items": null,
            "align_self": null,
            "border": null,
            "bottom": null,
            "display": null,
            "flex": null,
            "flex_flow": null,
            "grid_area": null,
            "grid_auto_columns": null,
            "grid_auto_flow": null,
            "grid_auto_rows": null,
            "grid_column": null,
            "grid_gap": null,
            "grid_row": null,
            "grid_template_areas": null,
            "grid_template_columns": null,
            "grid_template_rows": null,
            "height": null,
            "justify_content": null,
            "justify_items": null,
            "left": null,
            "margin": null,
            "max_height": null,
            "max_width": null,
            "min_height": null,
            "min_width": null,
            "object_fit": null,
            "object_position": null,
            "order": null,
            "overflow": null,
            "overflow_x": null,
            "overflow_y": null,
            "padding": null,
            "right": null,
            "top": null,
            "visibility": null,
            "width": null
          }
        },
        "1e07efbabf734afe9816dbe4bb73c178": {
          "model_module": "@jupyter-widgets/controls",
          "model_name": "DescriptionStyleModel",
          "model_module_version": "1.5.0",
          "state": {
            "_model_module": "@jupyter-widgets/controls",
            "_model_module_version": "1.5.0",
            "_model_name": "DescriptionStyleModel",
            "_view_count": null,
            "_view_module": "@jupyter-widgets/base",
            "_view_module_version": "1.2.0",
            "_view_name": "StyleView",
            "description_width": ""
          }
        },
        "91cc74fe58fb4c27bda3d09557d5c383": {
          "model_module": "@jupyter-widgets/controls",
          "model_name": "HBoxModel",
          "model_module_version": "1.5.0",
          "state": {
            "_dom_classes": [],
            "_model_module": "@jupyter-widgets/controls",
            "_model_module_version": "1.5.0",
            "_model_name": "HBoxModel",
            "_view_count": null,
            "_view_module": "@jupyter-widgets/controls",
            "_view_module_version": "1.5.0",
            "_view_name": "HBoxView",
            "box_style": "",
            "children": [
              "IPY_MODEL_e00645b5d34640c9afa02ec53ad202d4",
              "IPY_MODEL_d958463f4d2346d79f91d9b7b8cdf914",
              "IPY_MODEL_ec9295ba6f2949d29493706b35fc2b0c"
            ],
            "layout": "IPY_MODEL_6c2f0c6b5cb54e649acada7599a12528"
          }
        },
        "e00645b5d34640c9afa02ec53ad202d4": {
          "model_module": "@jupyter-widgets/controls",
          "model_name": "HTMLModel",
          "model_module_version": "1.5.0",
          "state": {
            "_dom_classes": [],
            "_model_module": "@jupyter-widgets/controls",
            "_model_module_version": "1.5.0",
            "_model_name": "HTMLModel",
            "_view_count": null,
            "_view_module": "@jupyter-widgets/controls",
            "_view_module_version": "1.5.0",
            "_view_name": "HTMLView",
            "description": "",
            "description_tooltip": null,
            "layout": "IPY_MODEL_e8a1b1a8ad8b4a3a8bebdaaf9c01dfe6",
            "placeholder": "​",
            "style": "IPY_MODEL_5098362ca68c40bf9c0bd9a4b05d3ce7",
            "value": "Downloading (…)cial_tokens_map.json: 100%"
          }
        },
        "d958463f4d2346d79f91d9b7b8cdf914": {
          "model_module": "@jupyter-widgets/controls",
          "model_name": "FloatProgressModel",
          "model_module_version": "1.5.0",
          "state": {
            "_dom_classes": [],
            "_model_module": "@jupyter-widgets/controls",
            "_model_module_version": "1.5.0",
            "_model_name": "FloatProgressModel",
            "_view_count": null,
            "_view_module": "@jupyter-widgets/controls",
            "_view_module_version": "1.5.0",
            "_view_name": "ProgressView",
            "bar_style": "success",
            "description": "",
            "description_tooltip": null,
            "layout": "IPY_MODEL_f8bc843cb9494de58afc8a791efa3e60",
            "max": 239,
            "min": 0,
            "orientation": "horizontal",
            "style": "IPY_MODEL_39f210b3603a4e179ad0c5f9492535c3",
            "value": 239
          }
        },
        "ec9295ba6f2949d29493706b35fc2b0c": {
          "model_module": "@jupyter-widgets/controls",
          "model_name": "HTMLModel",
          "model_module_version": "1.5.0",
          "state": {
            "_dom_classes": [],
            "_model_module": "@jupyter-widgets/controls",
            "_model_module_version": "1.5.0",
            "_model_name": "HTMLModel",
            "_view_count": null,
            "_view_module": "@jupyter-widgets/controls",
            "_view_module_version": "1.5.0",
            "_view_name": "HTMLView",
            "description": "",
            "description_tooltip": null,
            "layout": "IPY_MODEL_4ef7b270313c4721b7e9d36ffe3bf64b",
            "placeholder": "​",
            "style": "IPY_MODEL_95185a2905db4297a3be4e2796924f47",
            "value": " 239/239 [00:00&lt;00:00, 12.4kB/s]"
          }
        },
        "6c2f0c6b5cb54e649acada7599a12528": {
          "model_module": "@jupyter-widgets/base",
          "model_name": "LayoutModel",
          "model_module_version": "1.2.0",
          "state": {
            "_model_module": "@jupyter-widgets/base",
            "_model_module_version": "1.2.0",
            "_model_name": "LayoutModel",
            "_view_count": null,
            "_view_module": "@jupyter-widgets/base",
            "_view_module_version": "1.2.0",
            "_view_name": "LayoutView",
            "align_content": null,
            "align_items": null,
            "align_self": null,
            "border": null,
            "bottom": null,
            "display": null,
            "flex": null,
            "flex_flow": null,
            "grid_area": null,
            "grid_auto_columns": null,
            "grid_auto_flow": null,
            "grid_auto_rows": null,
            "grid_column": null,
            "grid_gap": null,
            "grid_row": null,
            "grid_template_areas": null,
            "grid_template_columns": null,
            "grid_template_rows": null,
            "height": null,
            "justify_content": null,
            "justify_items": null,
            "left": null,
            "margin": null,
            "max_height": null,
            "max_width": null,
            "min_height": null,
            "min_width": null,
            "object_fit": null,
            "object_position": null,
            "order": null,
            "overflow": null,
            "overflow_x": null,
            "overflow_y": null,
            "padding": null,
            "right": null,
            "top": null,
            "visibility": null,
            "width": null
          }
        },
        "e8a1b1a8ad8b4a3a8bebdaaf9c01dfe6": {
          "model_module": "@jupyter-widgets/base",
          "model_name": "LayoutModel",
          "model_module_version": "1.2.0",
          "state": {
            "_model_module": "@jupyter-widgets/base",
            "_model_module_version": "1.2.0",
            "_model_name": "LayoutModel",
            "_view_count": null,
            "_view_module": "@jupyter-widgets/base",
            "_view_module_version": "1.2.0",
            "_view_name": "LayoutView",
            "align_content": null,
            "align_items": null,
            "align_self": null,
            "border": null,
            "bottom": null,
            "display": null,
            "flex": null,
            "flex_flow": null,
            "grid_area": null,
            "grid_auto_columns": null,
            "grid_auto_flow": null,
            "grid_auto_rows": null,
            "grid_column": null,
            "grid_gap": null,
            "grid_row": null,
            "grid_template_areas": null,
            "grid_template_columns": null,
            "grid_template_rows": null,
            "height": null,
            "justify_content": null,
            "justify_items": null,
            "left": null,
            "margin": null,
            "max_height": null,
            "max_width": null,
            "min_height": null,
            "min_width": null,
            "object_fit": null,
            "object_position": null,
            "order": null,
            "overflow": null,
            "overflow_x": null,
            "overflow_y": null,
            "padding": null,
            "right": null,
            "top": null,
            "visibility": null,
            "width": null
          }
        },
        "5098362ca68c40bf9c0bd9a4b05d3ce7": {
          "model_module": "@jupyter-widgets/controls",
          "model_name": "DescriptionStyleModel",
          "model_module_version": "1.5.0",
          "state": {
            "_model_module": "@jupyter-widgets/controls",
            "_model_module_version": "1.5.0",
            "_model_name": "DescriptionStyleModel",
            "_view_count": null,
            "_view_module": "@jupyter-widgets/base",
            "_view_module_version": "1.2.0",
            "_view_name": "StyleView",
            "description_width": ""
          }
        },
        "f8bc843cb9494de58afc8a791efa3e60": {
          "model_module": "@jupyter-widgets/base",
          "model_name": "LayoutModel",
          "model_module_version": "1.2.0",
          "state": {
            "_model_module": "@jupyter-widgets/base",
            "_model_module_version": "1.2.0",
            "_model_name": "LayoutModel",
            "_view_count": null,
            "_view_module": "@jupyter-widgets/base",
            "_view_module_version": "1.2.0",
            "_view_name": "LayoutView",
            "align_content": null,
            "align_items": null,
            "align_self": null,
            "border": null,
            "bottom": null,
            "display": null,
            "flex": null,
            "flex_flow": null,
            "grid_area": null,
            "grid_auto_columns": null,
            "grid_auto_flow": null,
            "grid_auto_rows": null,
            "grid_column": null,
            "grid_gap": null,
            "grid_row": null,
            "grid_template_areas": null,
            "grid_template_columns": null,
            "grid_template_rows": null,
            "height": null,
            "justify_content": null,
            "justify_items": null,
            "left": null,
            "margin": null,
            "max_height": null,
            "max_width": null,
            "min_height": null,
            "min_width": null,
            "object_fit": null,
            "object_position": null,
            "order": null,
            "overflow": null,
            "overflow_x": null,
            "overflow_y": null,
            "padding": null,
            "right": null,
            "top": null,
            "visibility": null,
            "width": null
          }
        },
        "39f210b3603a4e179ad0c5f9492535c3": {
          "model_module": "@jupyter-widgets/controls",
          "model_name": "ProgressStyleModel",
          "model_module_version": "1.5.0",
          "state": {
            "_model_module": "@jupyter-widgets/controls",
            "_model_module_version": "1.5.0",
            "_model_name": "ProgressStyleModel",
            "_view_count": null,
            "_view_module": "@jupyter-widgets/base",
            "_view_module_version": "1.2.0",
            "_view_name": "StyleView",
            "bar_color": null,
            "description_width": ""
          }
        },
        "4ef7b270313c4721b7e9d36ffe3bf64b": {
          "model_module": "@jupyter-widgets/base",
          "model_name": "LayoutModel",
          "model_module_version": "1.2.0",
          "state": {
            "_model_module": "@jupyter-widgets/base",
            "_model_module_version": "1.2.0",
            "_model_name": "LayoutModel",
            "_view_count": null,
            "_view_module": "@jupyter-widgets/base",
            "_view_module_version": "1.2.0",
            "_view_name": "LayoutView",
            "align_content": null,
            "align_items": null,
            "align_self": null,
            "border": null,
            "bottom": null,
            "display": null,
            "flex": null,
            "flex_flow": null,
            "grid_area": null,
            "grid_auto_columns": null,
            "grid_auto_flow": null,
            "grid_auto_rows": null,
            "grid_column": null,
            "grid_gap": null,
            "grid_row": null,
            "grid_template_areas": null,
            "grid_template_columns": null,
            "grid_template_rows": null,
            "height": null,
            "justify_content": null,
            "justify_items": null,
            "left": null,
            "margin": null,
            "max_height": null,
            "max_width": null,
            "min_height": null,
            "min_width": null,
            "object_fit": null,
            "object_position": null,
            "order": null,
            "overflow": null,
            "overflow_x": null,
            "overflow_y": null,
            "padding": null,
            "right": null,
            "top": null,
            "visibility": null,
            "width": null
          }
        },
        "95185a2905db4297a3be4e2796924f47": {
          "model_module": "@jupyter-widgets/controls",
          "model_name": "DescriptionStyleModel",
          "model_module_version": "1.5.0",
          "state": {
            "_model_module": "@jupyter-widgets/controls",
            "_model_module_version": "1.5.0",
            "_model_name": "DescriptionStyleModel",
            "_view_count": null,
            "_view_module": "@jupyter-widgets/base",
            "_view_module_version": "1.2.0",
            "_view_name": "StyleView",
            "description_width": ""
          }
        }
      }
    }
  },
  "nbformat": 4,
  "nbformat_minor": 5
}