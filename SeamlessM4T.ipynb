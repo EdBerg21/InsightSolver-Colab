{
  "nbformat": 4,
  "nbformat_minor": 0,
  "metadata": {
    "colab": {
      "provenance": [],
      "gpuType": "T4",
      "toc_visible": true,
      "include_colab_link": true
    },
    "kernelspec": {
      "name": "python3",
      "display_name": "Python 3"
    },
    "language_info": {
      "name": "python"
    },
    "accelerator": "GPU"
  },
  "cells": [
    {
      "cell_type": "markdown",
      "metadata": {
        "id": "view-in-github",
        "colab_type": "text"
      },
      "source": [
        "<a href=\"https://colab.research.google.com/github/R3gm/InsightSolver-Colab/blob/main/SeamlessM4T.ipynb\" target=\"_parent\"><img src=\"https://colab.research.google.com/assets/colab-badge.svg\" alt=\"Open In Colab\"/></a>"
      ]
    },
    {
      "cell_type": "markdown",
      "source": [
        "# SeamlessM4T"
      ],
      "metadata": {
        "id": "Uf9NxFXQqryF"
      }
    },
    {
      "cell_type": "markdown",
      "source": [
        "| Code Credits | Link |\n",
        "| ----------- | ---- |\n",
        "| 🎉 seamless_communication | [![GitHub Repository](https://img.shields.io/github/stars/facebookresearch/seamless_communication?style=social)](https://github.com/facebookresearch/seamless_communication) |\n",
        "| 🚀 Online inference | [![Hugging Face Spaces](https://img.shields.io/badge/%F0%9F%A4%97%20Hugging%20Face-Spaces-blue)](https://huggingface.co/spaces/facebook/seamless_m4t) |\n",
        "| 🔥 Discover More Colab Notebooks | [![GitHub Repository](https://img.shields.io/badge/GitHub-Repository-black?style=flat-square&logo=github)](https://github.com/R3gm/InsightSolver-Colab/) |\n"
      ],
      "metadata": {
        "id": "tVMvF9_lRVtP"
      }
    },
    {
      "cell_type": "markdown",
      "source": [
        "SeamlessM4T is a groundbreaking Massively Multilingual & Multimodal Machine Translation model, bridging speech and text translation for up to 100 languages."
      ],
      "metadata": {
        "id": "8zHweUXUod5X"
      }
    },
    {
      "cell_type": "markdown",
      "source": [
        "Generally, the translation from one audio to another is done with several intermediate steps, such as transcription, translation, and later conversion to audio (Cascaded systems), as in [SoniTranslate](https://github.com/R3gm/SoniTranslate). However, the current model allows us to perform all these tasks."
      ],
      "metadata": {
        "id": "DzhwnYazEtfE"
      }
    },
    {
      "cell_type": "code",
      "source": [
        "!pip install fairseq2==0.1 pydub yt-dlp\n",
        "!git clone https://github.com/facebookresearch/seamless_communication.git\n",
        "%cd seamless_communication\n",
        "!git checkout 01c1042841f9bce66902eb2c7512dbdd71d42112 # We will use a stable version; if you want to use the latest version, comment out this line.\n",
        "!pip install ."
      ],
      "metadata": {
        "id": "dsd4m5D96ePM"
      },
      "execution_count": null,
      "outputs": []
    },
    {
      "cell_type": "markdown",
      "source": [
        "Utility Functions and Libraries"
      ],
      "metadata": {
        "id": "e4SNreKd7IQ1"
      }
    },
    {
      "cell_type": "code",
      "source": [
        "from seamless_communication.models.inference import Translator\n",
        "from IPython.display import Audio\n",
        "from pydub import AudioSegment\n",
        "from pydub.silence import split_on_silence\n",
        "from pydub import AudioSegment\n",
        "import torchaudio\n",
        "import torch\n",
        "import os\n",
        "\n",
        "def save_and_play_audio(path_save, audio, sample_rate):\n",
        "    torchaudio.save(\n",
        "        path_save,\n",
        "        audio[0].cpu(),\n",
        "        sample_rate=sample_rate,\n",
        "    )\n",
        "\n",
        "    audio_play = Audio(path_save, rate=sample_rate, autoplay=True, normalize=True)\n",
        "    display(audio_play)\n",
        "\n",
        "def split_audio_with_max_duration(input_file, output_directory, min_silence_len=2500, silence_thresh=-60, max_chunk_duration=15000):\n",
        "\n",
        "    sound = AudioSegment.from_wav(input_file)\n",
        "\n",
        "    # Splitting on silence\n",
        "    audio_chunks = split_on_silence(sound, min_silence_len=min_silence_len, silence_thresh=silence_thresh)\n",
        "\n",
        "    # split for max_chunk_duration\n",
        "    final_audio_chunks = []\n",
        "    for chunk in audio_chunks:\n",
        "        if len(chunk) > max_chunk_duration:\n",
        "            num_subchunks = len(chunk) // max_chunk_duration + 1\n",
        "            subchunk_size = len(chunk) // num_subchunks\n",
        "            for i in range(num_subchunks):\n",
        "                start_idx = i * subchunk_size\n",
        "                end_idx = (i + 1) * subchunk_size\n",
        "                subchunk = chunk[start_idx:end_idx]\n",
        "                final_audio_chunks.append(subchunk)\n",
        "        else:\n",
        "            final_audio_chunks.append(chunk)\n",
        "\n",
        "    # Export wav\n",
        "    for i, chunk in enumerate(final_audio_chunks):\n",
        "        output_file = f\"{output_directory}/chunk{i}.wav\"\n",
        "        print(\"Exporting file\", output_file)\n",
        "        chunk.export(output_file, format=\"wav\")"
      ],
      "metadata": {
        "id": "ANIk5wTgMVs8"
      },
      "execution_count": null,
      "outputs": []
    },
    {
      "cell_type": "markdown",
      "source": [
        "Load the model"
      ],
      "metadata": {
        "id": "VHu5O2KzDzjv"
      }
    },
    {
      "cell_type": "code",
      "source": [
        "# Initialize a Translator object with a multitask model, vocoder on the GPU.\n",
        "translator = Translator(\n",
        "    \"seamlessM4T_large\",\n",
        "    \"vocoder_36langs\",\n",
        "    torch.device(\"cuda:0\")\n",
        ")"
      ],
      "metadata": {
        "colab": {
          "base_uri": "https://localhost:8080/"
        },
        "id": "Nu7DMElH6GAF",
        "outputId": "5bfb25c1-d70c-4acc-d72e-e80f132fc5f3"
      },
      "execution_count": null,
      "outputs": [
        {
          "output_type": "stream",
          "name": "stderr",
          "text": [
            "Downloading the checkpoint of the model 'seamlessM4T_large'...\n",
            "100%|██████████| 10.7G/10.7G [00:57<00:00, 200MB/s]\n",
            "Downloading the tokenizer of the model 'seamlessM4T_large'...\n",
            "100%|██████████| 4.93M/4.93M [00:00<00:00, 104MB/s]\n",
            "Downloading the checkpoint of the model 'vocoder_36langs'...\n",
            "100%|██████████| 160M/160M [00:00<00:00, 244MB/s]\n"
          ]
        }
      ]
    },
    {
      "cell_type": "markdown",
      "source": [
        "We will process the audio from a YouTube video."
      ],
      "metadata": {
        "id": "qGmzX7ClFFQC"
      }
    },
    {
      "cell_type": "code",
      "source": [
        "# Download the video\n",
        "video_url = 'www.youtube.com/watch?v=g_9rPvbENUw'\n",
        "!yt-dlp -f \"mp4\"  --force-overwrites --max-downloads 1 --no-warnings --no-abort-on-error --ignore-no-formats-error --restrict-filenames -o Video.mp4  $video_url"
      ],
      "metadata": {
        "colab": {
          "base_uri": "https://localhost:8080/"
        },
        "id": "es5NyU5m8Rq8",
        "outputId": "824a50c8-4e6f-4203-98d2-8eefdf7fa8d9"
      },
      "execution_count": null,
      "outputs": [
        {
          "output_type": "stream",
          "name": "stdout",
          "text": [
            "[generic] Extracting URL: www.youtube.com/watch?v=g_9rPvbENUw\n",
            "[youtube] Extracting URL: http://www.youtube.com/watch?v=g_9rPvbENUw\n",
            "[youtube] g_9rPvbENUw: Downloading webpage\n",
            "[youtube] g_9rPvbENUw: Downloading ios player API JSON\n",
            "[youtube] g_9rPvbENUw: Downloading android player API JSON\n",
            "[youtube] g_9rPvbENUw: Downloading m3u8 information\n",
            "[youtube] g_9rPvbENUw: Downloading MPD manifest\n",
            "[info] g_9rPvbENUw: Downloading 1 format(s): 22\n",
            "[download] Destination: Video.mp4\n",
            "\u001b[K[download] 100% of    8.68MiB in \u001b[1;37m00:00:00\u001b[0m at \u001b[0;32m12.17MiB/s\u001b[0m\n",
            "[info] Maximum number of downloads reached, stopping due to --max-downloads\n",
            "Aborting remaining downloads\n"
          ]
        }
      ]
    },
    {
      "cell_type": "code",
      "source": [
        "# Convert to wav\n",
        "!ffmpeg -y -i Video.mp4 -vn -acodec pcm_s16le -ar 44100 -ac 2 audio.wav"
      ],
      "metadata": {
        "colab": {
          "base_uri": "https://localhost:8080/"
        },
        "id": "tpZBJaEn9BDj",
        "outputId": "ac1ac548-16d6-4746-8a9f-0317bf968cab"
      },
      "execution_count": null,
      "outputs": [
        {
          "output_type": "stream",
          "name": "stdout",
          "text": [
            "ffmpeg version 4.4.2-0ubuntu0.22.04.1 Copyright (c) 2000-2021 the FFmpeg developers\n",
            "  built with gcc 11 (Ubuntu 11.2.0-19ubuntu1)\n",
            "  configuration: --prefix=/usr --extra-version=0ubuntu0.22.04.1 --toolchain=hardened --libdir=/usr/lib/x86_64-linux-gnu --incdir=/usr/include/x86_64-linux-gnu --arch=amd64 --enable-gpl --disable-stripping --enable-gnutls --enable-ladspa --enable-libaom --enable-libass --enable-libbluray --enable-libbs2b --enable-libcaca --enable-libcdio --enable-libcodec2 --enable-libdav1d --enable-libflite --enable-libfontconfig --enable-libfreetype --enable-libfribidi --enable-libgme --enable-libgsm --enable-libjack --enable-libmp3lame --enable-libmysofa --enable-libopenjpeg --enable-libopenmpt --enable-libopus --enable-libpulse --enable-librabbitmq --enable-librubberband --enable-libshine --enable-libsnappy --enable-libsoxr --enable-libspeex --enable-libsrt --enable-libssh --enable-libtheora --enable-libtwolame --enable-libvidstab --enable-libvorbis --enable-libvpx --enable-libwebp --enable-libx265 --enable-libxml2 --enable-libxvid --enable-libzimg --enable-libzmq --enable-libzvbi --enable-lv2 --enable-omx --enable-openal --enable-opencl --enable-opengl --enable-sdl2 --enable-pocketsphinx --enable-librsvg --enable-libmfx --enable-libdc1394 --enable-libdrm --enable-libiec61883 --enable-chromaprint --enable-frei0r --enable-libx264 --enable-shared\n",
            "  libavutil      56. 70.100 / 56. 70.100\n",
            "  libavcodec     58.134.100 / 58.134.100\n",
            "  libavformat    58. 76.100 / 58. 76.100\n",
            "  libavdevice    58. 13.100 / 58. 13.100\n",
            "  libavfilter     7.110.100 /  7.110.100\n",
            "  libswscale      5.  9.100 /  5.  9.100\n",
            "  libswresample   3.  9.100 /  3.  9.100\n",
            "  libpostproc    55.  9.100 / 55.  9.100\n",
            "Input #0, mov,mp4,m4a,3gp,3g2,mj2, from 'Video.mp4':\n",
            "  Metadata:\n",
            "    major_brand     : mp42\n",
            "    minor_version   : 0\n",
            "    compatible_brands: isommp42\n",
            "    creation_time   : 2022-11-01T02:58:18.000000Z\n",
            "  Duration: 00:01:08.87, start: 0.000000, bitrate: 1057 kb/s\n",
            "  Stream #0:0(und): Video: h264 (High) (avc1 / 0x31637661), yuv420p(tv, smpte170m/bt470bg/bt709), 960x720 [SAR 1:1 DAR 4:3], 926 kb/s, 30 fps, 30 tbr, 15360 tbn, 60 tbc (default)\n",
            "    Metadata:\n",
            "      creation_time   : 2022-11-01T02:58:18.000000Z\n",
            "      handler_name    : ISO Media file produced by Google Inc. Created on: 10/31/2022.\n",
            "      vendor_id       : [0][0][0][0]\n",
            "  Stream #0:1(und): Audio: aac (LC) (mp4a / 0x6134706D), 44100 Hz, stereo, fltp, 128 kb/s (default)\n",
            "    Metadata:\n",
            "      creation_time   : 2022-11-01T02:58:18.000000Z\n",
            "      handler_name    : ISO Media file produced by Google Inc. Created on: 10/31/2022.\n",
            "      vendor_id       : [0][0][0][0]\n",
            "Stream mapping:\n",
            "  Stream #0:1 -> #0:0 (aac (native) -> pcm_s16le (native))\n",
            "Press [q] to stop, [?] for help\n",
            "Output #0, wav, to 'audio.wav':\n",
            "  Metadata:\n",
            "    major_brand     : mp42\n",
            "    minor_version   : 0\n",
            "    compatible_brands: isommp42\n",
            "    ISFT            : Lavf58.76.100\n",
            "  Stream #0:0(und): Audio: pcm_s16le ([1][0][0][0] / 0x0001), 44100 Hz, stereo, s16, 1411 kb/s (default)\n",
            "    Metadata:\n",
            "      creation_time   : 2022-11-01T02:58:18.000000Z\n",
            "      handler_name    : ISO Media file produced by Google Inc. Created on: 10/31/2022.\n",
            "      vendor_id       : [0][0][0][0]\n",
            "      encoder         : Lavc58.134.100 pcm_s16le\n",
            "size=       4kB time=00:00:00.00 bitrate=N/A speed=   0x    \rsize=   11864kB time=00:01:08.84 bitrate=1411.7kbits/s speed= 465x    \n",
            "video:0kB audio:11864kB subtitle:0kB other streams:0kB global headers:0kB muxing overhead: 0.000642%\n"
          ]
        }
      ]
    },
    {
      "cell_type": "markdown",
      "source": [
        "# Split the audio"
      ],
      "metadata": {
        "id": "INb59nYlO_Ra"
      }
    },
    {
      "cell_type": "markdown",
      "source": [
        "To process the audio, we need to split it due to model limitations."
      ],
      "metadata": {
        "id": "bhdz7-YiF1nW"
      }
    },
    {
      "cell_type": "code",
      "source": [
        "input_audio_file = \"/content/seamless_communication/audio.wav\"\n",
        "output_directory = \"/content/seamless_communication/split_segments\"\n",
        "\n",
        "!mkdir split_segments\n",
        "!rm -rf /content/seamless_communication/split_segments/*\n",
        "split_audio_with_max_duration(input_audio_file, output_directory)"
      ],
      "metadata": {
        "colab": {
          "base_uri": "https://localhost:8080/"
        },
        "id": "GW5y8VfKt-2n",
        "outputId": "df0ae9a3-82f5-493a-b21d-84b3853e1022"
      },
      "execution_count": null,
      "outputs": [
        {
          "output_type": "stream",
          "name": "stdout",
          "text": [
            "mkdir: cannot create directory ‘split_segments’: File exists\n",
            "Exporting file /content/seamless_communication/split_segments/chunk0.wav\n",
            "Exporting file /content/seamless_communication/split_segments/chunk1.wav\n",
            "Exporting file /content/seamless_communication/split_segments/chunk2.wav\n",
            "Exporting file /content/seamless_communication/split_segments/chunk3.wav\n",
            "Exporting file /content/seamless_communication/split_segments/chunk4.wav\n"
          ]
        }
      ]
    },
    {
      "cell_type": "code",
      "source": [
        "# Play a split\n",
        "audio_path = '/content/seamless_communication/split_segments/chunk1.wav'\n",
        "audio = Audio(audio_path, rate=44100, autoplay=True, normalize=True)\n",
        "display(audio)"
      ],
      "metadata": {
        "id": "AfBOGaRRr-zn"
      },
      "execution_count": null,
      "outputs": []
    },
    {
      "cell_type": "markdown",
      "source": [
        "## Speech to Speech Translate"
      ],
      "metadata": {
        "id": "T-R6W0u_Hohz"
      }
    },
    {
      "cell_type": "code",
      "source": [
        "# Example\n",
        "translated_text, wav, sr = translator.predict(\n",
        "    input='/content/seamless_communication/split_segments/chunk1.wav',\n",
        "    task_str='s2st',\n",
        "    tgt_lang='eng', # target language\n",
        "    src_lang='spa', # source language # If you specify this, it will improve the model's result.\n",
        "    spkr= -1,\n",
        ")\n",
        "\n",
        "# Save the audio and play\n",
        "save_and_play_audio(\n",
        "    '/content/seamless_communication/audiot.wav',\n",
        "    wav,\n",
        "    sr,\n",
        ")"
      ],
      "metadata": {
        "id": "HZq1D_cb-X56"
      },
      "execution_count": null,
      "outputs": []
    },
    {
      "cell_type": "markdown",
      "source": [
        "Now we will translate all the segments and combine them into a new audio file."
      ],
      "metadata": {
        "id": "LtVCbfNHJen9"
      }
    },
    {
      "cell_type": "code",
      "source": [
        "segments = []\n",
        "\n",
        "for filename in sorted(os.listdir(output_directory)):\n",
        "    if filename.startswith(\"chunk\") and filename.endswith(\".wav\"):\n",
        "        segment_path = os.path.join(output_directory, filename)\n",
        "\n",
        "        translated_text, wav, sr = translator.predict(\n",
        "            input=segment_path,\n",
        "            task_str='s2st',\n",
        "            tgt_lang='eng',\n",
        "            src_lang='spa',\n",
        "        )\n",
        "        print(translated_text, segment_path)\n",
        "\n",
        "        torchaudio.save(\n",
        "            segment_path,\n",
        "            wav[0].cpu(),\n",
        "            sample_rate=sr,\n",
        "        )\n",
        "\n",
        "        segment = AudioSegment.from_file(segment_path)\n",
        "        segments.append(segment)\n",
        "\n",
        "    combined_audio = sum(segments)\n",
        "    combined_audio.export('/content/seamless_communication/audio_eng.mp3', format=\"mp3\")"
      ],
      "metadata": {
        "colab": {
          "base_uri": "https://localhost:8080/"
        },
        "id": "Ny14K4f3N3fZ",
        "outputId": "1769af6d-24b3-4619-ce60-c9daeaf5f393"
      },
      "execution_count": null,
      "outputs": [
        {
          "output_type": "stream",
          "name": "stdout",
          "text": [
            "Good afternoon. We're meeting with Gesser. /content/seamless_communication/split_segments/chunk0.wav\n",
            "And he's going to answer some questions. First, what are the most polluted areas by solid waste or packages that are in the school? /content/seamless_communication/split_segments/chunk1.wav\n",
            "Approximately how many cameras do you have? /content/seamless_communication/split_segments/chunk2.wav\n",
            "(Applause from the audience) /content/seamless_communication/split_segments/chunk3.wav\n",
            "I'm sure most of you have seen it. /content/seamless_communication/split_segments/chunk4.wav\n"
          ]
        }
      ]
    },
    {
      "cell_type": "code",
      "source": [
        "audio_path = '/content/seamless_communication/audio_eng.mp3'\n",
        "audio = Audio(audio_path, rate=44100, autoplay=True, normalize=True)\n",
        "display(audio)"
      ],
      "metadata": {
        "colab": {
          "base_uri": "https://localhost:8080/",
          "height": 75
        },
        "id": "oIGyrpiGNlcu",
        "outputId": "b024acf9-0040-493d-fadf-e4bfae402297"
      },
      "execution_count": null,
      "outputs": [
        {
          "output_type": "display_data",
          "data": {
            "text/plain": [
              "<IPython.lib.display.Audio object>"
            ],
            "text/html": [
              "\n",
              "                <audio  controls=\"controls\" autoplay=\"autoplay\">\n",
              "                    <source src=\"data:audio/mpeg;base64,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\" type=\"audio/mpeg\" />\n",
              "                    Your browser does not support the audio element.\n",
              "                </audio>\n",
              "              "
            ]
          },
          "metadata": {}
        }
      ]
    },
    {
      "cell_type": "markdown",
      "source": [
        "## Text to Speech Translate"
      ],
      "metadata": {
        "id": "9O59LuFTKp4a"
      }
    },
    {
      "cell_type": "code",
      "source": [
        "text = 'En el bosque encantado'"
      ],
      "metadata": {
        "id": "ShvYHvDUd-62"
      },
      "execution_count": null,
      "outputs": []
    },
    {
      "cell_type": "code",
      "source": [
        "translated_text, wav, sr = translator.predict(\n",
        "    text,\n",
        "    \"t2st\",\n",
        "    tgt_lang='eng',\n",
        "    src_lang='spa'\n",
        ")\n",
        "\n",
        "save_and_play_audio(\n",
        "    '/content/seamless_communication/text2speech.wav',\n",
        "    wav,\n",
        "    sr,\n",
        ")"
      ],
      "metadata": {
        "id": "r9QCrEwmeM4O"
      },
      "execution_count": null,
      "outputs": []
    },
    {
      "cell_type": "markdown",
      "source": [
        "## Text to text translate"
      ],
      "metadata": {
        "id": "9m39ugchN4p8"
      }
    },
    {
      "cell_type": "code",
      "source": [
        "text = 'En el bosque encantado, un zorro curioso halló un reloj antiguo. Al tocarlo, quedó atrapado en un bucle temporal. Buscó ayuda de un búho sabio, quien reveló que solo resolviendo acertijos podría romper el hechizo. Juntos descifraron enigmas, liberando al zorro y tejiendo una amistad eterna.'"
      ],
      "metadata": {
        "id": "QH4-zNrbN5qv"
      },
      "execution_count": null,
      "outputs": []
    },
    {
      "cell_type": "code",
      "source": [
        "translated_text, _, _ = translator.predict(text, \"t2tt\", 'eng', src_lang='spa')\n",
        "translated_text"
      ],
      "metadata": {
        "colab": {
          "base_uri": "https://localhost:8080/"
        },
        "id": "HApRildjd1RP",
        "outputId": "f82a0c97-78cf-4463-e92d-75f0a3129580"
      },
      "execution_count": null,
      "outputs": [
        {
          "output_type": "execute_result",
          "data": {
            "text/plain": [
              "CString('In the enchanted forest, a curious fox found an ancient clock. When he touched it, he was trapped in a time loop. He sought help from a wise owl, who revealed that only by solving riddles could he break the spell. Together they solved riddles, freeing the fox and forging an eternal friendship.')"
            ]
          },
          "metadata": {},
          "execution_count": 51
        }
      ]
    },
    {
      "cell_type": "markdown",
      "source": [
        "## Speech to text translate"
      ],
      "metadata": {
        "id": "5ORu4wIsOJBV"
      }
    },
    {
      "cell_type": "code",
      "source": [
        "# Resample audio\n",
        "resample_rate = 44100\n",
        "waveform, sample_rate = torchaudio.load('/content/seamless_communication/split_segments/chunk1.wav')\n",
        "resampler = torchaudio.transforms.Resample(sample_rate, resample_rate, dtype=waveform.dtype)\n",
        "resampled_waveform = resampler(waveform)\n",
        "torchaudio.save('/content/seamless_communication/split_segments/resample_chunk1.wav', resampled_waveform, resample_rate)"
      ],
      "metadata": {
        "id": "nW9zE4h-Wd9v"
      },
      "execution_count": null,
      "outputs": []
    },
    {
      "cell_type": "code",
      "source": [
        "translated_text, _, _ = translator.predict('/content/seamless_communication/split_segments/resample_chunk1.wav', \"s2tt\", 'eng')\n",
        "translated_text"
      ],
      "metadata": {
        "colab": {
          "base_uri": "https://localhost:8080/"
        },
        "id": "WsDIyCQ5irD-",
        "outputId": "2942214a-5cad-4730-a48c-8319515c9e1f"
      },
      "execution_count": null,
      "outputs": [
        {
          "output_type": "execute_result",
          "data": {
            "text/plain": [
              "CString('And he's going to answer some questions: First, what are the most polluted areas from solid waste or packages that are in the school?')"
            ]
          },
          "metadata": {},
          "execution_count": 20
        }
      ]
    },
    {
      "cell_type": "markdown",
      "source": [
        "License Attribution-NonCommercial 4.0 International: https://github.com/facebookresearch/seamless_communication/blob/main/LICENSE"
      ],
      "metadata": {
        "id": "bHItD2BA6nyN"
      }
    }
  ]
}