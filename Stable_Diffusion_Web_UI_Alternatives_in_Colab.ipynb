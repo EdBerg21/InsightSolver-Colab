{
  "nbformat": 4,
  "nbformat_minor": 0,
  "metadata": {
    "colab": {
      "provenance": [],
      "toc_visible": true,
      "authorship_tag": "ABX9TyPQzL4Jlj0fhrh9IJNStUiC",
      "include_colab_link": true
    },
    "kernelspec": {
      "name": "python3",
      "display_name": "Python 3"
    },
    "language_info": {
      "name": "python"
    }
  },
  "cells": [
    {
      "cell_type": "markdown",
      "metadata": {
        "id": "view-in-github",
        "colab_type": "text"
      },
      "source": [
        "<a href=\"https://colab.research.google.com/github/R3gm/InsightSolver-Colab/blob/main/Stable_Diffusion_Web_UI_Alternatives_in_Colab.ipynb\" target=\"_parent\"><img src=\"https://colab.research.google.com/assets/colab-badge.svg\" alt=\"Open In Colab\"/></a>"
      ]
    },
    {
      "cell_type": "markdown",
      "source": [
        "# Exploring Alternatives to Stable Diffusion \"WebUI\" on Google Colab's Free Tier\n",
        "\n",
        "Google maintains a budget to sustain this service, and it appears that the utilization of a specific distribution known as Stable Diffusion WebUI became excessive. Imagine a scenario where everyone is scrambling to get a slice of cake, and suddenly, the cake is almost depleted. Consequently, Google had to intervene and implement adjustments. They are not imposing bans; instead, they are imposing restrictions on the usage of Stable Diffusion WebUI for users on the free tier. Nevertheless, paid users remain unaffected.\n",
        "\n",
        "What adds intrigue to the conversation is the emergence of alternative solutions to Google Colab. In retrospect, it seems reasonable for Google to oversee resource consumption. GPUs and TPUs come at a significant cost, and Google must strike a balance between their benevolence and fiscal responsibility. Moreover, they prioritize interactive notebook computing for free users, a truly enticing offering.\n",
        "\n",
        "I recall someone mentioning the possible involvement of NSFW content in this situation. It's fascinating how certain constants, even in the realm of technology, remain unchanged.\n",
        "\n",
        "In essence, if you're a free user of Google Colab, you may observe modifications regarding the utilization of Stable Diffusion WebUI. Alternatives exist, and the tech community persists in devising innovative remedies."
      ],
      "metadata": {
        "id": "6bxbAsJOpaI1"
      }
    },
    {
      "cell_type": "markdown",
      "source": [
        "## `Automatic1111` by [NoCrypt](https://huggingface.co/NoCrypt)"
      ],
      "metadata": {
        "id": "bUtVB4dCsHia"
      }
    },
    {
      "cell_type": "markdown",
      "source": [
        "[![Open In Colab](https://colab.research.google.com/assets/colab-badge.svg)](https://colab.research.google.com/drive/1wEa-tS10h4LlDykd87TF5zzpXIIQoCmq#scrollTo=8Uvqba0yKW7U)\n",
        "\n",
        "This is literally the web UI interface that most people are familiar with. The main advantage is that it allows us to download the models we need in custom_urls from different sources such as Hugging Face or Civitai."
      ],
      "metadata": {
        "id": "fuFNTp9Sskik"
      }
    },
    {
      "cell_type": "markdown",
      "source": [
        "## `ComfyUI` by [NoCrypt](https://huggingface.co/NoCrypt)\n",
        "\n",
        "[![Open In Colab](https://colab.research.google.com/assets/colab-badge.svg)](https://colab.research.google.com/drive/1ZMvLWEiYITmBJngtqeIQToeNuiydwI0z)\n",
        "\n",
        "ComfyUI enables intuitive design and execution of complex stable diffusion workflows. Graph-based interface, model support, efficient GPU utilization, offline operation, and seamless workflow management enhance experimentation and productivity. This colab have the custom_urls for download the models."
      ],
      "metadata": {
        "id": "sOyqv6Xhwk7X"
      }
    },
    {
      "cell_type": "markdown",
      "source": [
        "ComfyUI has an official tutorial in the format of a [visual novel](https://comfyanonymous.github.io/ComfyUI_tutorial_vn/) and [examples of workflows](https://github.com/comfyanonymous/ComfyUI_examples)\n"
      ],
      "metadata": {
        "id": "DHCmTlOIw3Fd"
      }
    },
    {
      "cell_type": "markdown",
      "source": [
        "## `InvokeAI` by [Camenderu](https://github.com/camenduru/InvokeAI-colab)\n",
        "\n",
        "An application with functionality similar to a design program, its main strength lying in outpainting capabilities.\n",
        "\n",
        "[![Open In Colab](https://colab.research.google.com/assets/colab-badge.svg)](https://colab.research.google.com/github/camenduru/InvokeAI-colab/blob/main/InvokeAI_colab.ipynb)"
      ],
      "metadata": {
        "id": "25-_s-rY1JDr"
      }
    },
    {
      "cell_type": "markdown",
      "source": [
        "## Differences between the Web UIs"
      ],
      "metadata": {
        "id": "pVBq4lFO2LBZ"
      }
    },
    {
      "cell_type": "markdown",
      "source": [
        "|                                       | Automatic1111                                | ComfyUI                                   | InvokeAI              |\n",
        "|---------------------------------------|-----------------------------------------|-------------------------------------------|-----------------------|\n",
        "| Key Features                          | Many extensions | Image composition, weighted prompts     | Unified canvas, creative tasks, Infinite undo |\n",
        "| Performance/Compatibility             | VRAM requirements, GPU performance   | Usable on lower hardware, image areas  | Potential AMD GPU support, Linux |\n",
        "| Challenges/Issues                     | Better on specific GPUs/configurations | Inpainting challenges, complex UI      | Challenges with certain features (safetensors) |\n",
        "| User Experience                       | UI is more cluttered, but feature-rich | Quick, flexible| More polished, better inpainting/outpainting |\n",
        "| Canvas Features                       | Infinite canvas, universal canvass plugin | Complex UI, standalone portable         | Unified canvas        |\n",
        "| Gallery Management                    | Plugin to enhance image management   |                                         | Integrated gallery function |\n",
        "| Outpainting UI                        | Scripts for outpainting, less dedicated UI |                                         | Dedicated UI for outpainting |"
      ],
      "metadata": {
        "id": "kLxaDv5RiZe0"
      }
    },
    {
      "cell_type": "markdown",
      "source": [
        "## Alternative demos with GPU on HuggingFace\n",
        "\n",
        "| Demo Name | Hugging Face Spaces |\n",
        "|-----------|--------------------|\n",
        "| Image Diffusion WebUI | [![Hugging Face Spaces](https://img.shields.io/badge/%F0%9F%A4%97%20Hugging%20Face-Spaces-blue)](https://huggingface.co/spaces/ArtGAN/Image-Diffusion-WebUI) |\n",
        "| Protogen Web UI | [![Hugging Face Spaces](https://img.shields.io/badge/%F0%9F%A4%97%20Hugging%20Face-Spaces-blue)](https://huggingface.co/spaces/darkstorm2150/protogen-web-ui) |\n",
        "| ComfyUI | [![Hugging Face Spaces](https://img.shields.io/badge/%F0%9F%A4%97%20Hugging%20Face-Spaces-blue)](https://huggingface.co/spaces/SpacesExamples/ComfyUI) |\n",
        "| InvokeAI | [![Hugging Face Spaces](https://img.shields.io/badge/%F0%9F%A4%97%20Hugging%20Face-Spaces-blue)](https://huggingface.co/spaces/SpacesExamples/InvokeAI) |\n",
        "\n",
        "\n"
      ],
      "metadata": {
        "id": "2Ax1Uhmft0VK"
      }
    },
    {
      "cell_type": "markdown",
      "source": [
        "References\n",
        "- https://www.sdcompendium.com/doku.php?id=start\n",
        "- https://github.com/Stability-AI/StableSwarmUI\n",
        "- https://github.com/invoke-ai/InvokeAI\n",
        "- https://github.com/comfyanonymous/ComfyUI"
      ],
      "metadata": {
        "id": "TMlqI2DGzTRJ"
      }
    }
  ]
}