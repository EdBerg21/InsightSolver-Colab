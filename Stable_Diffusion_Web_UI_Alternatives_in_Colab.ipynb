{
  "nbformat": 4,
  "nbformat_minor": 0,
  "metadata": {
    "colab": {
      "provenance": [],
      "authorship_tag": "ABX9TyMTF418FVcjXlGagJ5UqLXj",
      "include_colab_link": true
    },
    "kernelspec": {
      "name": "python3",
      "display_name": "Python 3"
    },
    "language_info": {
      "name": "python"
    }
  },
  "cells": [
    {
      "cell_type": "markdown",
      "metadata": {
        "id": "view-in-github",
        "colab_type": "text"
      },
      "source": [
        "<a href=\"https://colab.research.google.com/github/R3gm/InsightSolver-Colab/blob/main/Stable_Diffusion_Web_UI_Alternatives_in_Colab.ipynb\" target=\"_parent\"><img src=\"https://colab.research.google.com/assets/colab-badge.svg\" alt=\"Open In Colab\"/></a>"
      ]
    },
    {
      "cell_type": "markdown",
      "source": [
        "# Exploring Alternatives to Stable Diffusion \"WebUI\" on Google Colab's Free Tier\n",
        "\n",
        "| Description | Link |\n",
        "| ----------- | ---- |\n",
        "| 🎉 ComfyUI | [![GitHub Repository](https://img.shields.io/github/stars/comfyanonymous/ComfyUI?style=social)](https://github.com/comfyanonymous/ComfyUI) |\n",
        "| 🎉 InvokeAI | [![GitHub Repository](https://img.shields.io/github/stars/invoke-ai/InvokeAI?style=social)](https://github.com/invoke-ai/InvokeAI) |\n",
        "| 🔥 Discover More Colab Notebooks | [![GitHub Repository](https://img.shields.io/badge/GitHub-Repository-black?style=flat-square&logo=github)](https://github.com/R3gm/InsightSolver-Colab/) |\n",
        "\n",
        "\n",
        "Google Colab faced resource utilization issues with Stable Diffusion WebUI, leading to restrictions for users. Alternatives to SD webui Colab emerged. Reports suggest unexpected account bans, causing concern within the Stable Diffusion community. Users are advised not to use certain UI features. The situation remains unclear. [More information](https://github.com/camenduru/sdxl-colab)\n",
        "\n",
        "Use any notebook at your own risk"
      ],
      "metadata": {
        "id": "6bxbAsJOpaI1"
      }
    },
    {
      "cell_type": "markdown",
      "source": [
        "## `ComfyUI` by [NoCrypt](https://huggingface.co/NoCrypt)\n",
        "\n",
        "[![Open In Colab](https://colab.research.google.com/assets/colab-badge.svg)](https://colab.research.google.com/drive/1ZMvLWEiYITmBJngtqeIQToeNuiydwI0z)\n",
        "\n",
        "ComfyUI enables intuitive design and execution of complex stable diffusion workflows. Graph-based interface, model support, efficient GPU utilization, offline operation, and seamless workflow management enhance experimentation and productivity. This colab have the custom_urls for download the models."
      ],
      "metadata": {
        "id": "sOyqv6Xhwk7X"
      }
    },
    {
      "cell_type": "markdown",
      "source": [
        "ComfyUI has an official tutorial in the format of a [visual novel](https://comfyanonymous.github.io/ComfyUI_tutorial_vn/) and [examples of workflows](https://github.com/comfyanonymous/ComfyUI_examples)\n"
      ],
      "metadata": {
        "id": "DHCmTlOIw3Fd"
      }
    },
    {
      "cell_type": "markdown",
      "source": [
        "## `InvokeAI` by [Camenduru](https://github.com/camenduru/InvokeAI-colab)\n",
        "\n",
        "An application with functionality similar to a design program, its main strength lying in outpainting capabilities.\n",
        "\n",
        "[![Open In Colab](https://colab.research.google.com/assets/colab-badge.svg)](https://colab.research.google.com/github/camenduru/InvokeAI-colab/blob/main/InvokeAI_colab.ipynb)"
      ],
      "metadata": {
        "id": "25-_s-rY1JDr"
      }
    },
    {
      "cell_type": "markdown",
      "source": [
        "## Differences between the Web UIs"
      ],
      "metadata": {
        "id": "pVBq4lFO2LBZ"
      }
    },
    {
      "cell_type": "markdown",
      "source": [
        "|                                       | Automatic1111                                | ComfyUI                                   | InvokeAI              |\n",
        "|---------------------------------------|-----------------------------------------|-------------------------------------------|-----------------------|\n",
        "| Key Features                          | Many extensions | Image composition, weighted prompts     | Unified canvas, creative tasks, Infinite undo |\n",
        "| Performance/Compatibility             | VRAM requirements, GPU performance   | Usable on lower hardware, image areas  | Potential AMD GPU support, Linux |\n",
        "| Challenges/Issues                     | Better on specific GPUs/configurations | Inpainting challenges, complex UI      | Challenges with certain features (safetensors) |\n",
        "| User Experience                       | UI is more cluttered, but feature-rich | Quick, flexible| More polished, better inpainting/outpainting |\n",
        "| Canvas Features                       | Infinite canvas, universal canvass plugin | Complex UI, standalone portable         | Unified canvas        |\n",
        "| Gallery Management                    | Plugin to enhance image management   |                                         | Integrated gallery function |\n",
        "| Outpainting UI                        | Scripts for outpainting, less dedicated UI |                                         | Dedicated UI for outpainting |"
      ],
      "metadata": {
        "id": "kLxaDv5RiZe0"
      }
    },
    {
      "cell_type": "markdown",
      "source": [
        "## Alternative demos with GPU on HuggingFace\n",
        "\n",
        "| Demo Name | Hugging Face Spaces |\n",
        "|-----------|--------------------|\n",
        "| Image Diffusion WebUI | [![Hugging Face Spaces](https://img.shields.io/badge/%F0%9F%A4%97%20Hugging%20Face-Spaces-blue)](https://huggingface.co/spaces/ArtGAN/Image-Diffusion-WebUI) |\n",
        "| Protogen Web UI | [![Hugging Face Spaces](https://img.shields.io/badge/%F0%9F%A4%97%20Hugging%20Face-Spaces-blue)](https://huggingface.co/spaces/darkstorm2150/protogen-web-ui) |\n",
        "| ComfyUI | [![Hugging Face Spaces](https://img.shields.io/badge/%F0%9F%A4%97%20Hugging%20Face-Spaces-blue)](https://huggingface.co/spaces/SpacesExamples/ComfyUI) |\n",
        "| InvokeAI (cpu)| [![Hugging Face Spaces](https://img.shields.io/badge/%F0%9F%A4%97%20Hugging%20Face-Spaces-blue)](https://huggingface.co/spaces/SpacesExamples/InvokeAI) |\n",
        "| Stable Diffusion Protogen x3.4 | [![Hugging Face Spaces](https://img.shields.io/badge/%F0%9F%A4%97%20Hugging%20Face-Spaces-blue)](https://huggingface.co/spaces/darkstorm2150/Stable-Diffusion-Protogen-x3.4-webui) |\n",
        "| Diffusers WebUI | [![Hugging Face Spaces](https://img.shields.io/badge/%F0%9F%A4%97%20Hugging%20Face-Spaces-blue)](https://huggingface.co/spaces/nyanko7/sd-diffusers-webui) |\n",
        "| Webui-docker with juggernaut-xl | [![Hugging Face Spaces](https://img.shields.io/badge/%F0%9F%A4%97%20Hugging%20Face-Spaces-blue)](https://huggingface.co/spaces/camenduru-com/webui-docker) |\n",
        "| WebUI with Counterfeitxl| [![Hugging Face Spaces](https://img.shields.io/badge/%F0%9F%A4%97%20Hugging%20Face-Spaces-blue)](https://huggingface.co/spaces/camenduru-com/webui) |\n",
        "| For search models in HF | [![Hugging Face Spaces](https://img.shields.io/badge/%F0%9F%A4%97%20Hugging%20Face-Spaces-blue)](https://huggingface.co/spaces/huggingface-projects/diffusers-gallery) |\n",
        "\n",
        "\n"
      ],
      "metadata": {
        "id": "2Ax1Uhmft0VK"
      }
    },
    {
      "cell_type": "markdown",
      "source": [
        "References\n",
        "- https://www.sdcompendium.com/doku.php?id=start\n",
        "- https://github.com/Stability-AI/StableSwarmUI"
      ],
      "metadata": {
        "id": "TMlqI2DGzTRJ"
      }
    }
  ]
}